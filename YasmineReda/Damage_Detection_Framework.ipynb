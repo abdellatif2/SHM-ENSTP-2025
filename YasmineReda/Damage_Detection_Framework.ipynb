{
 "cells": [
  {
   "cell_type": "code",
   "execution_count": 1,
   "id": "c462ca11",
   "metadata": {},
   "outputs": [],
   "source": [
    "from utils import plot_scatter_by_z_levels\n",
    "import matplotlib.pyplot as plt\n",
    "import numpy as np\n",
    "from tqdm import tqdm\n",
    "import pygad"
   ]
  },
  {
   "cell_type": "markdown",
   "id": "048cb680",
   "metadata": {},
   "source": [
    "# 1- SNPO"
   ]
  },
  {
   "cell_type": "code",
   "execution_count": 2,
   "id": "bf1087c3",
   "metadata": {},
   "outputs": [],
   "source": [
    "n_generations = 100\n",
    "population_size = 100\n",
    "n_modes = 12\n",
    "\n",
    "# Set up the genetic algorithm parameters\n",
    "num_parents_mating = 10\n",
    "\n",
    "sol_per_pop = 10  # solutions per iteration\n",
    "\n",
    "parent_selection_type = \"sss\"\n",
    "keep_parents = 1\n",
    "\n",
    "crossover_type = \"single_point\"\n",
    "\n",
    "mutation_type = \"random\"\n",
    "mutation_percent_genes = 20"
   ]
  },
  {
   "cell_type": "code",
   "execution_count": 3,
   "id": "8e4c0f94",
   "metadata": {},
   "outputs": [
    {
     "name": "stdout",
     "output_type": "stream",
     "text": [
      "[['1' '35387.0' '16225.0' '7200.0']\n",
      " ['2' '35387.0' '15505.0' '7200.0']\n",
      " ['5' '33290.0' '15505.0' '7200.0']\n",
      " ...\n",
      " ['5086' '29515.0' '18925.0' '19800.0']\n",
      " ['5087' '29515.0' '18925.0' '15600.0']\n",
      " ['5088' '29515.0' '18925.0' '11400.0']] ['1' '2' '5' ... '5086' '5087' '5088']\n"
     ]
    }
   ],
   "source": [
    "# Load from CSV\n",
    "filtered_coord = np.loadtxt(\"filtered_coords.csv\", delimiter=\",\", dtype=str)\n",
    "possible_sensors_ids = filtered_coord[:,0]\n",
    "\n",
    "print(filtered_coord, possible_sensors_ids)"
   ]
  },
  {
   "cell_type": "code",
   "execution_count": 4,
   "id": "d94e0f18",
   "metadata": {},
   "outputs": [],
   "source": [
    "PHI_flat = np.loadtxt('ALL_SENSORS_MODE_SHAPES.csv', delimiter=',')  # shape (12, 3*n)"
   ]
  },
  {
   "cell_type": "code",
   "execution_count": 5,
   "id": "0b3ed3af",
   "metadata": {},
   "outputs": [
    {
     "data": {
      "text/plain": [
       "(12, 3, 3087)"
      ]
     },
     "execution_count": 5,
     "metadata": {},
     "output_type": "execute_result"
    }
   ],
   "source": [
    "# Determine n (number of slices along the last dimension)\n",
    "n = PHI_flat.shape[1] // 3\n",
    "\n",
    "# Reshape\n",
    "PHI = PHI_flat.reshape(12, 3, n)\n",
    "PHI.shape"
   ]
  },
  {
   "cell_type": "markdown",
   "id": "f3054a95",
   "metadata": {},
   "source": [
    "The **MAC** is used to compare mode shapes and evaluate their similarity.\n",
    "\n",
    "### 📐 MAC Equation:\n",
    "$$\n",
    "\\text{MAC}_{ij} = \\frac{|\\phi_i^T \\phi_j|^2}{(\\phi_i^T \\phi_i)(\\phi_j^T \\phi_j)}\n",
    "$$\n",
    "\n",
    "Explanation of Each Term:\n",
    "$\\phi_i$: Mode shape vector $i$\n",
    "\n",
    "$\\phi_j$: Mode shape vector $j$\n",
    "\n",
    "$\\phi_i^T\\phi_j$: Dot product of the two vectors\n",
    "\n",
    "$|\\cdot|^2$: Square of the magnitude\n",
    "\n",
    "The result is a value between 0 (completely different) and 1 (identical)."
   ]
  },
  {
   "cell_type": "code",
   "execution_count": 6,
   "id": "d36d0cf1",
   "metadata": {},
   "outputs": [],
   "source": [
    "num_genes = PHI.shape[2]  # maximum number of genes\n",
    "\n",
    "init_range_low = 0\n",
    "init_range_high = PHI.shape[2]"
   ]
  },
  {
   "cell_type": "code",
   "execution_count": 7,
   "id": "dcce8ee3",
   "metadata": {},
   "outputs": [],
   "source": [
    "def MAC(phi_A, phi_B):\n",
    "    # Ensure phi_A and phi_B are numpy arrays\n",
    "    phi_A = np.array(phi_A)\n",
    "    phi_B = np.array(phi_B)\n",
    "    \n",
    "    # Number of modes and measurement points\n",
    "    n_modes_A, n_points_A = phi_A.shape\n",
    "    n_modes_B, n_points_B = phi_B.shape\n",
    "    \n",
    "    # Initialize the MAC matrix\n",
    "    MAC_matrix = np.zeros((n_modes_A, n_modes_B))\n",
    "    \n",
    "    # Compute the MAC values\n",
    "    for i in range(n_modes_A):\n",
    "        for j in range(n_modes_B):\n",
    "            numerator = np.abs(np.dot(phi_A[i, :], phi_B[j, :]))**2\n",
    "            denominator = (np.dot(phi_A[i, :], phi_A[i, :]) * np.dot(phi_B[j, :], phi_B[j, :]))\n",
    "            MAC_matrix[i, j] = numerator / denominator\n",
    "    \n",
    "    return MAC_matrix"
   ]
  },
  {
   "cell_type": "code",
   "execution_count": 8,
   "id": "8ba0fc91",
   "metadata": {},
   "outputs": [],
   "source": [
    "\n",
    "def fitness_func(ga_instance, solution, solution_idx):\n",
    "    solution = np.delete(solution, solution==-1)\n",
    "    solution = np.unique(solution)\n",
    "    phi = PHI[:, :, solution]\n",
    "    mac = MAC(phi.reshape((n_modes, -1)), phi.reshape((n_modes, -1)))\n",
    "    np.fill_diagonal(mac, 0)\n",
    "\n",
    "    # Calculate the sum of non-diagonal elements\n",
    "    sum_non_diagonal = np.sum(mac)\n",
    "    num_parameters = len(solution)\n",
    "    \n",
    "    # Penalty for using more parameters\n",
    "    penalty = num_parameters / num_genes  # Adjust this factor as needed\n",
    "    fitness = 1 / np.sqrt(sum_non_diagonal) / (1 + penalty)\n",
    "\n",
    "    # print(\"Sum of non-diagonal elements:\", sum_non_diagonal)\n",
    "    # print('Number of parameters:' ,num_parameters)\n",
    "    # print('penalty :', penalty)\n",
    "    # print('-----------------------------------------')\n",
    "    return fitness"
   ]
  },
  {
   "cell_type": "code",
   "execution_count": 9,
   "id": "10440f7f",
   "metadata": {},
   "outputs": [],
   "source": [
    "# Create a custom initialization function for fixed-length solutions with zeros for unused parameters\n",
    "def custom_initialization(num_solutions, num_genes, init_range_low, init_range_high):\n",
    "    population = []\n",
    "    for _ in range(num_solutions):\n",
    "        solution = np.ones(num_genes, dtype=int) * -1\n",
    "        num_active_genes = np.random.randint(1, num_genes + 1)\n",
    "        active_positions = np.random.choice(range(num_genes), num_active_genes, replace=False)\n",
    "        active_values = np.random.choice(range(init_range_low, init_range_high), num_active_genes, replace=False)\n",
    "        solution[active_positions] = active_values\n",
    "        population.append(solution)\n",
    "    return np.array(population)"
   ]
  },
  {
   "cell_type": "code",
   "execution_count": 10,
   "id": "e1b06bbb",
   "metadata": {},
   "outputs": [
    {
     "name": "stderr",
     "output_type": "stream",
     "text": [
      "GA Progress:   0%|          | 0/100 [00:00<?, ?it/s]"
     ]
    },
    {
     "name": "stdout",
     "output_type": "stream",
     "text": [
      "===============OPTIMIZATION=========================\n"
     ]
    },
    {
     "name": "stderr",
     "output_type": "stream",
     "text": [
      "GA Progress: 100%|██████████| 100/100 [00:18<00:00,  5.40it/s]\n"
     ]
    }
   ],
   "source": [
    "\n",
    "\n",
    "\n",
    "progress_bar = tqdm(total=n_generations, desc='GA Progress')\n",
    "\n",
    "def on_generation(ga_instance):\n",
    "    # Update the progress bar\n",
    "    progress_bar.update(1)\n",
    "\n",
    "# Initialize the GA instance with a custom initialization function\n",
    "ga_instance = pygad.GA(\n",
    "    num_generations=n_generations,\n",
    "    num_parents_mating=num_parents_mating,\n",
    "    fitness_func=fitness_func,\n",
    "    sol_per_pop=sol_per_pop,\n",
    "    num_genes=num_genes,\n",
    "    init_range_low=init_range_low,\n",
    "    init_range_high=init_range_high,\n",
    "    parent_selection_type=parent_selection_type,\n",
    "    keep_parents=keep_parents,\n",
    "    crossover_type=crossover_type,\n",
    "    mutation_type=mutation_type,\n",
    "    mutation_percent_genes=mutation_percent_genes,\n",
    "    gene_type=int,\n",
    "    on_generation=on_generation,\n",
    "    initial_population=custom_initialization(population_size, num_genes, init_range_low, init_range_high)\n",
    ")\n",
    "print('===============OPTIMIZATION=========================')\n",
    "\n",
    "# Run the genetic algorithm\n",
    "ga_instance.run()\n",
    "progress_bar.close()\n"
   ]
  },
  {
   "cell_type": "code",
   "execution_count": 11,
   "id": "cfdcf9e1",
   "metadata": {},
   "outputs": [
    {
     "name": "stdout",
     "output_type": "stream",
     "text": [
      "Final number of sensors : 182\n"
     ]
    }
   ],
   "source": [
    "final_solution, solution_fitness, solution_idx = ga_instance.best_solution()\n",
    "print('Final number of sensors :', len(np.unique(final_solution)))"
   ]
  },
  {
   "cell_type": "code",
   "execution_count": 12,
   "id": "5c1b8937",
   "metadata": {},
   "outputs": [
    {
     "name": "stderr",
     "output_type": "stream",
     "text": [
      "c:\\CONDA\\envs\\BridgeFC\\Lib\\site-packages\\pygad\\visualize\\plot.py:120: UserWarning: No artists with labels found to put in legend.  Note that artists whose label start with an underscore are ignored when legend() is called with no argument.\n",
      "  matplt.legend()\n"
     ]
    },
    {
     "data": {
      "image/png": "[encoded data removed]",
      "text/plain": [
       "<Figure size 640x480 with 1 Axes>"
      ]
     },
     "metadata": {},
     "output_type": "display_data"
    },
    {
     "data": {
      "image/png": "[encoded data removed]",
      "text/plain": [
       "<Figure size 640x480 with 1 Axes>"
      ]
     },
     "execution_count": 12,
     "metadata": {},
     "output_type": "execute_result"
    }
   ],
   "source": [
    "ga_instance.plot_fitness()"
   ]
  },
  {
   "cell_type": "code",
   "execution_count": 13,
   "id": "12085f44",
   "metadata": {},
   "outputs": [],
   "source": [
    "selected_indices = final_solution[(final_solution != 0) & (final_solution != -1)]\n",
    "selected_ids = [possible_sensors_ids[i] for i in selected_indices]\n",
    "\n",
    "# Filter rows where first column matches selected_ids\n",
    "matched_rows = np.array([row for row in filtered_coord if row[0] in selected_ids])"
   ]
  },
  {
   "cell_type": "code",
   "execution_count": 18,
   "id": "113a85d1",
   "metadata": {},
   "outputs": [
    {
     "data": {
      "image/png": "[encoded data removed]",
      "text/plain": [
       "<Figure size 1600x1000 with 20 Axes>"
      ]
     },
     "metadata": {},
     "output_type": "display_data"
    }
   ],
   "source": [
    "selected_ids = np.array(selected_ids)\n",
    "\n",
    "# Plot\n",
    "plot_scatter_by_z_levels(filtered_coord, matched_rows[:,0])"
   ]
  },
  {
   "cell_type": "code",
   "execution_count": 14,
   "id": "83b9ea6d",
   "metadata": {},
   "outputs": [
    {
     "name": "stdout",
     "output_type": "stream",
     "text": [
      "Selected sensor IDs (max 5 per Z):\n",
      "['28' '966' '2013' '2247' '2320' '52' '519' '1584' '2639' '2640' '77'\n",
      " '541' '775' '1619' '2165' '87' '321' '98' '331' '1971' '2305' '2465'\n",
      " '124' '357' '589' '590' '1293' '145' '148' '381' '852' '1316' '162' '391'\n",
      " '1098' '1327' '1744' '186' '1121' '1757' '2558' '4445' '233' '1399'\n",
      " '3796' '3836' '3849' '236' '1417' '1419' '1456' '1888' '250' '1520'\n",
      " '1544' '2318' '2768' '345' '1281' '1657' '2574' '2745' '408' '872' '2001'\n",
      " '2184' '2488' '429' '1803' '1871' '2145' '2253' '443' '907' '1377' '1380'\n",
      " '1776' '451' '454' '688' '1154' '2087' '510' '973' '1550' '2030' '2384'\n",
      " '602' '1696' '1704' '2692' '2900' '1002' '2071' '2168' '3356' '3456']\n"
     ]
    }
   ],
   "source": [
    "import numpy as np\n",
    "from collections import defaultdict\n",
    "\n",
    "# Group rows by Z (last column)\n",
    "groups = defaultdict(list)\n",
    "for row in matched_rows:\n",
    "    z = row[-1]\n",
    "    groups[z].append(row)\n",
    "\n",
    "# Select up to 5 rows per Z and collect their IDs\n",
    "selected_ids = []\n",
    "for z, rows in groups.items():\n",
    "    selected = rows[:5]  # Select first 5 (or fewer if less than 5 available)\n",
    "    selected_ids.extend(row[0] for row in selected)\n",
    "\n",
    "# Optionally convert to array or save to file\n",
    "selected_ids = np.array(selected_ids)\n",
    "\n",
    "# Print or return result\n",
    "print(\"Selected sensor IDs (max 5 per Z):\")\n",
    "print(selected_ids)"
   ]
  },
  {
   "cell_type": "code",
   "execution_count": 15,
   "id": "a9511971",
   "metadata": {},
   "outputs": [
    {
     "data": {
      "image/png": "[encoded data removed]",
      "text/plain": [
       "<Figure size 1600x1000 with 20 Axes>"
      ]
     },
     "metadata": {},
     "output_type": "display_data"
    }
   ],
   "source": [
    "selected_ids = np.array(selected_ids)\n",
    "\n",
    "# Plot\n",
    "plot_scatter_by_z_levels(filtered_coord, selected_ids)"
   ]
  },
  {
   "cell_type": "markdown",
   "id": "b64f6835",
   "metadata": {},
   "source": [
    "# 2 - Model training"
   ]
  },
  {
   "cell_type": "code",
   "execution_count": 26,
   "id": "85d7ec55",
   "metadata": {},
   "outputs": [],
   "source": [
    "import pandas as pd\n",
    "import numpy as np\n",
    "import matplotlib.pyplot as plt\n",
    "from sklearn.preprocessing import MinMaxScaler\n",
    "from sklearn.model_selection import train_test_split\n",
    "\n",
    "import tensorflow as tf\n",
    "from tensorflow.keras.models import Model\n",
    "from tensorflow.keras.layers import Input, Dense"
   ]
  },
  {
   "cell_type": "markdown",
   "id": "e5e8e30d",
   "metadata": {},
   "source": [
    "Importing the dataset"
   ]
  },
  {
   "cell_type": "code",
   "execution_count": null,
   "id": "603e50ff",
   "metadata": {},
   "outputs": [
    {
     "data": {
      "application/vnd.microsoft.datawrangler.viewer.v0+json": {
       "columns": [
        {
         "name": "index",
         "rawType": "int64",
         "type": "integer"
        },
        {
         "name": "0",
         "rawType": "float64",
         "type": "float"
        },
        {
         "name": "1",
         "rawType": "float64",
         "type": "float"
        },
        {
         "name": "2",
         "rawType": "float64",
         "type": "float"
        },
        {
         "name": "3",
         "rawType": "float64",
         "type": "float"
        },
        {
         "name": "4",
         "rawType": "float64",
         "type": "float"
        },
        {
         "name": "5",
         "rawType": "float64",
         "type": "float"
        },
        {
         "name": "6",
         "rawType": "float64",
         "type": "float"
        },
        {
         "name": "7",
         "rawType": "float64",
         "type": "float"
        },
        {
         "name": "8",
         "rawType": "float64",
         "type": "float"
        },
        {
         "name": "9",
         "rawType": "float64",
         "type": "float"
        },
        {
         "name": "10",
         "rawType": "float64",
         "type": "float"
        },
        {
         "name": "11",
         "rawType": "float64",
         "type": "float"
        },
        {
         "name": "12",
         "rawType": "float64",
         "type": "float"
        },
        {
         "name": "13",
         "rawType": "float64",
         "type": "float"
        },
        {
         "name": "14",
         "rawType": "float64",
         "type": "float"
        },
        {
         "name": "15",
         "rawType": "float64",
         "type": "float"
        },
        {
         "name": "16",
         "rawType": "float64",
         "type": "float"
        },
        {
         "name": "17",
         "rawType": "float64",
         "type": "float"
        },
        {
         "name": "18",
         "rawType": "float64",
         "type": "float"
        },
        {
         "name": "19",
         "rawType": "float64",
         "type": "float"
        },
        {
         "name": "20",
         "rawType": "float64",
         "type": "float"
        },
        {
         "name": "21",
         "rawType": "float64",
         "type": "float"
        },
        {
         "name": "22",
         "rawType": "float64",
         "type": "float"
        },
        {
         "name": "23",
         "rawType": "float64",
         "type": "float"
        },
        {
         "name": "24",
         "rawType": "float64",
         "type": "float"
        },
        {
         "name": "25",
         "rawType": "float64",
         "type": "float"
        },
        {
         "name": "26",
         "rawType": "float64",
         "type": "float"
        },
        {
         "name": "27",
         "rawType": "float64",
         "type": "float"
        },
        {
         "name": "28",
         "rawType": "float64",
         "type": "float"
        },
        {
         "name": "29",
         "rawType": "float64",
         "type": "float"
        },
        {
         "name": "30",
         "rawType": "float64",
         "type": "float"
        },
        {
         "name": "31",
         "rawType": "float64",
         "type": "float"
        },
        {
         "name": "32",
         "rawType": "float64",
         "type": "float"
        },
        {
         "name": "33",
         "rawType": "float64",
         "type": "float"
        },
        {
         "name": "34",
         "rawType": "float64",
         "type": "float"
        },
        {
         "name": "35",
         "rawType": "float64",
         "type": "float"
        },
        {
         "name": "36",
         "rawType": "float64",
         "type": "float"
        },
        {
         "name": "37",
         "rawType": "float64",
         "type": "float"
        },
        {
         "name": "38",
         "rawType": "float64",
         "type": "float"
        },
        {
         "name": "39",
         "rawType": "float64",
         "type": "float"
        },
        {
         "name": "40",
         "rawType": "float64",
         "type": "float"
        },
        {
         "name": "41",
         "rawType": "float64",
         "type": "float"
        },
        {
         "name": "42",
         "rawType": "float64",
         "type": "float"
        },
        {
         "name": "43",
         "rawType": "float64",
         "type": "float"
        },
        {
         "name": "44",
         "rawType": "float64",
         "type": "float"
        },
        {
         "name": "45",
         "rawType": "float64",
         "type": "float"
        },
        {
         "name": "46",
         "rawType": "float64",
         "type": "float"
        },
        {
         "name": "47",
         "rawType": "float64",
         "type": "float"
        },
        {
         "name": "48",
         "rawType": "float64",
         "type": "float"
        },
        {
         "name": "49",
         "rawType": "float64",
         "type": "float"
        },
        {
         "name": "50",
         "rawType": "float64",
         "type": "float"
        },
        {
         "name": "51",
         "rawType": "float64",
         "type": "float"
        },
        {
         "name": "52",
         "rawType": "float64",
         "type": "float"
        },
        {
         "name": "53",
         "rawType": "float64",
         "type": "float"
        },
        {
         "name": "54",
         "rawType": "float64",
         "type": "float"
        },
        {
         "name": "55",
         "rawType": "float64",
         "type": "float"
        },
        {
         "name": "56",
         "rawType": "float64",
         "type": "float"
        },
        {
         "name": "57",
         "rawType": "float64",
         "type": "float"
        },
        {
         "name": "58",
         "rawType": "float64",
         "type": "float"
        },
        {
         "name": "59",
         "rawType": "float64",
         "type": "float"
        },
        {
         "name": "60",
         "rawType": "float64",
         "type": "float"
        },
        {
         "name": "61",
         "rawType": "float64",
         "type": "float"
        },
        {
         "name": "62",
         "rawType": "float64",
         "type": "float"
        },
        {
         "name": "63",
         "rawType": "float64",
         "type": "float"
        },
        {
         "name": "64",
         "rawType": "float64",
         "type": "float"
        },
        {
         "name": "65",
         "rawType": "float64",
         "type": "float"
        },
        {
         "name": "66",
         "rawType": "float64",
         "type": "float"
        },
        {
         "name": "67",
         "rawType": "float64",
         "type": "float"
        },
        {
         "name": "68",
         "rawType": "float64",
         "type": "float"
        },
        {
         "name": "69",
         "rawType": "float64",
         "type": "float"
        },
        {
         "name": "70",
         "rawType": "float64",
         "type": "float"
        },
        {
         "name": "71",
         "rawType": "float64",
         "type": "float"
        },
        {
         "name": "72",
         "rawType": "float64",
         "type": "float"
        },
        {
         "name": "73",
         "rawType": "float64",
         "type": "float"
        },
        {
         "name": "74",
         "rawType": "float64",
         "type": "float"
        },
        {
         "name": "75",
         "rawType": "float64",
         "type": "float"
        },
        {
         "name": "76",
         "rawType": "float64",
         "type": "float"
        },
        {
         "name": "77",
         "rawType": "float64",
         "type": "float"
        },
        {
         "name": "78",
         "rawType": "float64",
         "type": "float"
        },
        {
         "name": "79",
         "rawType": "float64",
         "type": "float"
        },
        {
         "name": "80",
         "rawType": "float64",
         "type": "float"
        },
        {
         "name": "81",
         "rawType": "float64",
         "type": "float"
        },
        {
         "name": "82",
         "rawType": "float64",
         "type": "float"
        },
        {
         "name": "83",
         "rawType": "float64",
         "type": "float"
        },
        {
         "name": "84",
         "rawType": "float64",
         "type": "float"
        },
        {
         "name": "85",
         "rawType": "float64",
         "type": "float"
        },
        {
         "name": "86",
         "rawType": "float64",
         "type": "float"
        },
        {
         "name": "87",
         "rawType": "float64",
         "type": "float"
        },
        {
         "name": "88",
         "rawType": "float64",
         "type": "float"
        },
        {
         "name": "89",
         "rawType": "float64",
         "type": "float"
        },
        {
         "name": "90",
         "rawType": "float64",
         "type": "float"
        },
        {
         "name": "91",
         "rawType": "float64",
         "type": "float"
        },
        {
         "name": "92",
         "rawType": "float64",
         "type": "float"
        },
        {
         "name": "93",
         "rawType": "float64",
         "type": "float"
        },
        {
         "name": "94",
         "rawType": "float64",
         "type": "float"
        },
        {
         "name": "95",
         "rawType": "float64",
         "type": "float"
        },
        {
         "name": "96",
         "rawType": "float64",
         "type": "float"
        },
        {
         "name": "97",
         "rawType": "float64",
         "type": "float"
        },
        {
         "name": "98",
         "rawType": "float64",
         "type": "float"
        },
        {
         "name": "99",
         "rawType": "float64",
         "type": "float"
        },
        {
         "name": "100",
         "rawType": "float64",
         "type": "float"
        },
        {
         "name": "101",
         "rawType": "float64",
         "type": "float"
        },
        {
         "name": "102",
         "rawType": "float64",
         "type": "float"
        },
        {
         "name": "103",
         "rawType": "float64",
         "type": "float"
        },
        {
         "name": "104",
         "rawType": "float64",
         "type": "float"
        },
        {
         "name": "105",
         "rawType": "float64",
         "type": "float"
        },
        {
         "name": "106",
         "rawType": "float64",
         "type": "float"
        },
        {
         "name": "107",
         "rawType": "float64",
         "type": "float"
        },
        {
         "name": "108",
         "rawType": "float64",
         "type": "float"
        },
        {
         "name": "109",
         "rawType": "float64",
         "type": "float"
        },
        {
         "name": "110",
         "rawType": "float64",
         "type": "float"
        },
        {
         "name": "111",
         "rawType": "float64",
         "type": "float"
        },
        {
         "name": "112",
         "rawType": "float64",
         "type": "float"
        },
        {
         "name": "113",
         "rawType": "float64",
         "type": "float"
        },
        {
         "name": "114",
         "rawType": "float64",
         "type": "float"
        },
        {
         "name": "115",
         "rawType": "float64",
         "type": "float"
        },
        {
         "name": "116",
         "rawType": "float64",
         "type": "float"
        },
        {
         "name": "117",
         "rawType": "float64",
         "type": "float"
        },
        {
         "name": "118",
         "rawType": "float64",
         "type": "float"
        },
        {
         "name": "119",
         "rawType": "float64",
         "type": "float"
        },
        {
         "name": "120",
         "rawType": "float64",
         "type": "float"
        },
        {
         "name": "121",
         "rawType": "float64",
         "type": "float"
        },
        {
         "name": "122",
         "rawType": "float64",
         "type": "float"
        },
        {
         "name": "123",
         "rawType": "float64",
         "type": "float"
        },
        {
         "name": "124",
         "rawType": "float64",
         "type": "float"
        },
        {
         "name": "125",
         "rawType": "float64",
         "type": "float"
        },
        {
         "name": "126",
         "rawType": "float64",
         "type": "float"
        },
        {
         "name": "127",
         "rawType": "float64",
         "type": "float"
        },
        {
         "name": "128",
         "rawType": "float64",
         "type": "float"
        },
        {
         "name": "129",
         "rawType": "float64",
         "type": "float"
        },
        {
         "name": "130",
         "rawType": "float64",
         "type": "float"
        },
        {
         "name": "131",
         "rawType": "float64",
         "type": "float"
        },
        {
         "name": "132",
         "rawType": "float64",
         "type": "float"
        },
        {
         "name": "133",
         "rawType": "float64",
         "type": "float"
        },
        {
         "name": "134",
         "rawType": "float64",
         "type": "float"
        },
        {
         "name": "135",
         "rawType": "float64",
         "type": "float"
        },
        {
         "name": "136",
         "rawType": "float64",
         "type": "float"
        },
        {
         "name": "137",
         "rawType": "float64",
         "type": "float"
        },
        {
         "name": "138",
         "rawType": "float64",
         "type": "float"
        },
        {
         "name": "139",
         "rawType": "float64",
         "type": "float"
        },
        {
         "name": "140",
         "rawType": "float64",
         "type": "float"
        },
        {
         "name": "141",
         "rawType": "float64",
         "type": "float"
        },
        {
         "name": "142",
         "rawType": "float64",
         "type": "float"
        },
        {
         "name": "143",
         "rawType": "float64",
         "type": "float"
        },
        {
         "name": "144",
         "rawType": "float64",
         "type": "float"
        },
        {
         "name": "145",
         "rawType": "float64",
         "type": "float"
        },
        {
         "name": "146",
         "rawType": "float64",
         "type": "float"
        },
        {
         "name": "147",
         "rawType": "float64",
         "type": "float"
        },
        {
         "name": "148",
         "rawType": "float64",
         "type": "float"
        },
        {
         "name": "149",
         "rawType": "float64",
         "type": "float"
        },
        {
         "name": "150",
         "rawType": "float64",
         "type": "float"
        },
        {
         "name": "151",
         "rawType": "float64",
         "type": "float"
        },
        {
         "name": "152",
         "rawType": "float64",
         "type": "float"
        },
        {
         "name": "153",
         "rawType": "float64",
         "type": "float"
        },
        {
         "name": "154",
         "rawType": "float64",
         "type": "float"
        },
        {
         "name": "155",
         "rawType": "float64",
         "type": "float"
        },
        {
         "name": "156",
         "rawType": "float64",
         "type": "float"
        },
        {
         "name": "157",
         "rawType": "float64",
         "type": "float"
        },
        {
         "name": "158",
         "rawType": "float64",
         "type": "float"
        },
        {
         "name": "159",
         "rawType": "float64",
         "type": "float"
        },
        {
         "name": "160",
         "rawType": "float64",
         "type": "float"
        },
        {
         "name": "161",
         "rawType": "float64",
         "type": "float"
        },
        {
         "name": "162",
         "rawType": "float64",
         "type": "float"
        },
        {
         "name": "163",
         "rawType": "float64",
         "type": "float"
        },
        {
         "name": "164",
         "rawType": "float64",
         "type": "float"
        },
        {
         "name": "165",
         "rawType": "float64",
         "type": "float"
        },
        {
         "name": "166",
         "rawType": "float64",
         "type": "float"
        },
        {
         "name": "167",
         "rawType": "float64",
         "type": "float"
        },
        {
         "name": "168",
         "rawType": "float64",
         "type": "float"
        },
        {
         "name": "169",
         "rawType": "float64",
         "type": "float"
        },
        {
         "name": "170",
         "rawType": "float64",
         "type": "float"
        },
        {
         "name": "171",
         "rawType": "float64",
         "type": "float"
        },
        {
         "name": "172",
         "rawType": "float64",
         "type": "float"
        },
        {
         "name": "173",
         "rawType": "float64",
         "type": "float"
        },
        {
         "name": "174",
         "rawType": "float64",
         "type": "float"
        },
        {
         "name": "175",
         "rawType": "float64",
         "type": "float"
        },
        {
         "name": "176",
         "rawType": "float64",
         "type": "float"
        },
        {
         "name": "177",
         "rawType": "float64",
         "type": "float"
        },
        {
         "name": "178",
         "rawType": "float64",
         "type": "float"
        },
        {
         "name": "179",
         "rawType": "float64",
         "type": "float"
        },
        {
         "name": "180",
         "rawType": "float64",
         "type": "float"
        },
        {
         "name": "181",
         "rawType": "float64",
         "type": "float"
        },
        {
         "name": "182",
         "rawType": "float64",
         "type": "float"
        },
        {
         "name": "183",
         "rawType": "float64",
         "type": "float"
        },
        {
         "name": "184",
         "rawType": "float64",
         "type": "float"
        },
        {
         "name": "185",
         "rawType": "float64",
         "type": "float"
        },
        {
         "name": "186",
         "rawType": "float64",
         "type": "float"
        },
        {
         "name": "187",
         "rawType": "float64",
         "type": "float"
        },
        {
         "name": "188",
         "rawType": "float64",
         "type": "float"
        },
        {
         "name": "189",
         "rawType": "float64",
         "type": "float"
        },
        {
         "name": "190",
         "rawType": "float64",
         "type": "float"
        },
        {
         "name": "191",
         "rawType": "float64",
         "type": "float"
        },
        {
         "name": "192",
         "rawType": "float64",
         "type": "float"
        },
        {
         "name": "193",
         "rawType": "float64",
         "type": "float"
        },
        {
         "name": "194",
         "rawType": "float64",
         "type": "float"
        },
        {
         "name": "195",
         "rawType": "float64",
         "type": "float"
        },
        {
         "name": "196",
         "rawType": "float64",
         "type": "float"
        },
        {
         "name": "197",
         "rawType": "float64",
         "type": "float"
        },
        {
         "name": "198",
         "rawType": "float64",
         "type": "float"
        },
        {
         "name": "199",
         "rawType": "float64",
         "type": "float"
        },
        {
         "name": "200",
         "rawType": "float64",
         "type": "float"
        },
        {
         "name": "201",
         "rawType": "float64",
         "type": "float"
        },
        {
         "name": "202",
         "rawType": "float64",
         "type": "float"
        },
        {
         "name": "203",
         "rawType": "float64",
         "type": "float"
        },
        {
         "name": "204",
         "rawType": "float64",
         "type": "float"
        },
        {
         "name": "205",
         "rawType": "float64",
         "type": "float"
        },
        {
         "name": "206",
         "rawType": "float64",
         "type": "float"
        },
        {
         "name": "207",
         "rawType": "float64",
         "type": "float"
        },
        {
         "name": "208",
         "rawType": "float64",
         "type": "float"
        },
        {
         "name": "209",
         "rawType": "float64",
         "type": "float"
        },
        {
         "name": "210",
         "rawType": "float64",
         "type": "float"
        },
        {
         "name": "211",
         "rawType": "float64",
         "type": "float"
        },
        {
         "name": "212",
         "rawType": "float64",
         "type": "float"
        },
        {
         "name": "213",
         "rawType": "float64",
         "type": "float"
        },
        {
         "name": "214",
         "rawType": "float64",
         "type": "float"
        },
        {
         "name": "215",
         "rawType": "float64",
         "type": "float"
        },
        {
         "name": "216",
         "rawType": "float64",
         "type": "float"
        },
        {
         "name": "217",
         "rawType": "float64",
         "type": "float"
        },
        {
         "name": "218",
         "rawType": "float64",
         "type": "float"
        },
        {
         "name": "219",
         "rawType": "float64",
         "type": "float"
        },
        {
         "name": "220",
         "rawType": "float64",
         "type": "float"
        },
        {
         "name": "221",
         "rawType": "float64",
         "type": "float"
        },
        {
         "name": "222",
         "rawType": "float64",
         "type": "float"
        },
        {
         "name": "223",
         "rawType": "float64",
         "type": "float"
        },
        {
         "name": "224",
         "rawType": "float64",
         "type": "float"
        },
        {
         "name": "225",
         "rawType": "float64",
         "type": "float"
        },
        {
         "name": "226",
         "rawType": "float64",
         "type": "float"
        },
        {
         "name": "227",
         "rawType": "float64",
         "type": "float"
        },
        {
         "name": "228",
         "rawType": "float64",
         "type": "float"
        },
        {
         "name": "229",
         "rawType": "float64",
         "type": "float"
        },
        {
         "name": "230",
         "rawType": "float64",
         "type": "float"
        },
        {
         "name": "231",
         "rawType": "float64",
         "type": "float"
        },
        {
         "name": "232",
         "rawType": "float64",
         "type": "float"
        },
        {
         "name": "233",
         "rawType": "float64",
         "type": "float"
        },
        {
         "name": "234",
         "rawType": "float64",
         "type": "float"
        },
        {
         "name": "235",
         "rawType": "float64",
         "type": "float"
        },
        {
         "name": "236",
         "rawType": "float64",
         "type": "float"
        },
        {
         "name": "237",
         "rawType": "float64",
         "type": "float"
        },
        {
         "name": "238",
         "rawType": "float64",
         "type": "float"
        },
        {
         "name": "239",
         "rawType": "float64",
         "type": "float"
        },
        {
         "name": "240",
         "rawType": "float64",
         "type": "float"
        },
        {
         "name": "241",
         "rawType": "float64",
         "type": "float"
        },
        {
         "name": "242",
         "rawType": "float64",
         "type": "float"
        },
        {
         "name": "243",
         "rawType": "float64",
         "type": "float"
        },
        {
         "name": "244",
         "rawType": "float64",
         "type": "float"
        },
        {
         "name": "245",
         "rawType": "float64",
         "type": "float"
        },
        {
         "name": "246",
         "rawType": "float64",
         "type": "float"
        },
        {
         "name": "247",
         "rawType": "float64",
         "type": "float"
        },
        {
         "name": "248",
         "rawType": "float64",
         "type": "float"
        },
        {
         "name": "249",
         "rawType": "float64",
         "type": "float"
        },
        {
         "name": "250",
         "rawType": "float64",
         "type": "float"
        },
        {
         "name": "251",
         "rawType": "float64",
         "type": "float"
        },
        {
         "name": "252",
         "rawType": "float64",
         "type": "float"
        },
        {
         "name": "253",
         "rawType": "float64",
         "type": "float"
        },
        {
         "name": "254",
         "rawType": "float64",
         "type": "float"
        },
        {
         "name": "255",
         "rawType": "float64",
         "type": "float"
        },
        {
         "name": "256",
         "rawType": "float64",
         "type": "float"
        },
        {
         "name": "257",
         "rawType": "float64",
         "type": "float"
        },
        {
         "name": "258",
         "rawType": "float64",
         "type": "float"
        },
        {
         "name": "259",
         "rawType": "float64",
         "type": "float"
        },
        {
         "name": "260",
         "rawType": "float64",
         "type": "float"
        },
        {
         "name": "261",
         "rawType": "float64",
         "type": "float"
        },
        {
         "name": "262",
         "rawType": "float64",
         "type": "float"
        },
        {
         "name": "263",
         "rawType": "float64",
         "type": "float"
        },
        {
         "name": "264",
         "rawType": "float64",
         "type": "float"
        },
        {
         "name": "265",
         "rawType": "float64",
         "type": "float"
        },
        {
         "name": "266",
         "rawType": "float64",
         "type": "float"
        },
        {
         "name": "267",
         "rawType": "float64",
         "type": "float"
        },
        {
         "name": "268",
         "rawType": "float64",
         "type": "float"
        },
        {
         "name": "269",
         "rawType": "float64",
         "type": "float"
        },
        {
         "name": "270",
         "rawType": "float64",
         "type": "float"
        },
        {
         "name": "271",
         "rawType": "float64",
         "type": "float"
        },
        {
         "name": "272",
         "rawType": "float64",
         "type": "float"
        },
        {
         "name": "273",
         "rawType": "float64",
         "type": "float"
        },
        {
         "name": "274",
         "rawType": "float64",
         "type": "float"
        },
        {
         "name": "275",
         "rawType": "float64",
         "type": "float"
        },
        {
         "name": "276",
         "rawType": "float64",
         "type": "float"
        },
        {
         "name": "277",
         "rawType": "float64",
         "type": "float"
        },
        {
         "name": "278",
         "rawType": "float64",
         "type": "float"
        },
        {
         "name": "279",
         "rawType": "float64",
         "type": "float"
        },
        {
         "name": "280",
         "rawType": "float64",
         "type": "float"
        },
        {
         "name": "281",
         "rawType": "float64",
         "type": "float"
        },
        {
         "name": "282",
         "rawType": "float64",
         "type": "float"
        },
        {
         "name": "283",
         "rawType": "float64",
         "type": "float"
        },
        {
         "name": "284",
         "rawType": "float64",
         "type": "float"
        },
        {
         "name": "285",
         "rawType": "float64",
         "type": "float"
        },
        {
         "name": "286",
         "rawType": "float64",
         "type": "float"
        },
        {
         "name": "287",
         "rawType": "float64",
         "type": "float"
        },
        {
         "name": "288",
         "rawType": "float64",
         "type": "float"
        },
        {
         "name": "289",
         "rawType": "float64",
         "type": "float"
        },
        {
         "name": "290",
         "rawType": "float64",
         "type": "float"
        },
        {
         "name": "291",
         "rawType": "float64",
         "type": "float"
        },
        {
         "name": "292",
         "rawType": "float64",
         "type": "float"
        },
        {
         "name": "293",
         "rawType": "float64",
         "type": "float"
        },
        {
         "name": "294",
         "rawType": "float64",
         "type": "float"
        },
        {
         "name": "295",
         "rawType": "float64",
         "type": "float"
        },
        {
         "name": "296",
         "rawType": "float64",
         "type": "float"
        },
        {
         "name": "297",
         "rawType": "float64",
         "type": "float"
        },
        {
         "name": "298",
         "rawType": "float64",
         "type": "float"
        },
        {
         "name": "299",
         "rawType": "float64",
         "type": "float"
        },
        {
         "name": "300",
         "rawType": "float64",
         "type": "float"
        },
        {
         "name": "301",
         "rawType": "float64",
         "type": "float"
        },
        {
         "name": "302",
         "rawType": "float64",
         "type": "float"
        },
        {
         "name": "303",
         "rawType": "float64",
         "type": "float"
        },
        {
         "name": "304",
         "rawType": "float64",
         "type": "float"
        },
        {
         "name": "305",
         "rawType": "float64",
         "type": "float"
        },
        {
         "name": "306",
         "rawType": "float64",
         "type": "float"
        },
        {
         "name": "307",
         "rawType": "float64",
         "type": "float"
        },
        {
         "name": "308",
         "rawType": "float64",
         "type": "float"
        },
        {
         "name": "309",
         "rawType": "float64",
         "type": "float"
        },
        {
         "name": "310",
         "rawType": "float64",
         "type": "float"
        },
        {
         "name": "311",
         "rawType": "float64",
         "type": "float"
        },
        {
         "name": "312",
         "rawType": "float64",
         "type": "float"
        },
        {
         "name": "313",
         "rawType": "float64",
         "type": "float"
        },
        {
         "name": "314",
         "rawType": "float64",
         "type": "float"
        },
        {
         "name": "315",
         "rawType": "float64",
         "type": "float"
        },
        {
         "name": "316",
         "rawType": "float64",
         "type": "float"
        },
        {
         "name": "317",
         "rawType": "float64",
         "type": "float"
        },
        {
         "name": "318",
         "rawType": "float64",
         "type": "float"
        },
        {
         "name": "319",
         "rawType": "float64",
         "type": "float"
        },
        {
         "name": "320",
         "rawType": "float64",
         "type": "float"
        },
        {
         "name": "321",
         "rawType": "float64",
         "type": "float"
        },
        {
         "name": "322",
         "rawType": "float64",
         "type": "float"
        },
        {
         "name": "323",
         "rawType": "float64",
         "type": "float"
        },
        {
         "name": "324",
         "rawType": "float64",
         "type": "float"
        },
        {
         "name": "325",
         "rawType": "float64",
         "type": "float"
        },
        {
         "name": "326",
         "rawType": "float64",
         "type": "float"
        },
        {
         "name": "327",
         "rawType": "float64",
         "type": "float"
        },
        {
         "name": "328",
         "rawType": "float64",
         "type": "float"
        },
        {
         "name": "329",
         "rawType": "float64",
         "type": "float"
        },
        {
         "name": "330",
         "rawType": "float64",
         "type": "float"
        },
        {
         "name": "331",
         "rawType": "float64",
         "type": "float"
        },
        {
         "name": "332",
         "rawType": "float64",
         "type": "float"
        },
        {
         "name": "333",
         "rawType": "float64",
         "type": "float"
        },
        {
         "name": "334",
         "rawType": "float64",
         "type": "float"
        },
        {
         "name": "335",
         "rawType": "float64",
         "type": "float"
        },
        {
         "name": "336",
         "rawType": "float64",
         "type": "float"
        },
        {
         "name": "337",
         "rawType": "float64",
         "type": "float"
        },
        {
         "name": "338",
         "rawType": "float64",
         "type": "float"
        },
        {
         "name": "339",
         "rawType": "float64",
         "type": "float"
        },
        {
         "name": "340",
         "rawType": "float64",
         "type": "float"
        },
        {
         "name": "341",
         "rawType": "float64",
         "type": "float"
        },
        {
         "name": "342",
         "rawType": "float64",
         "type": "float"
        },
        {
         "name": "343",
         "rawType": "float64",
         "type": "float"
        },
        {
         "name": "344",
         "rawType": "float64",
         "type": "float"
        }
       ],
       "ref": "163e2449-c2b5-4f12-b179-ce4964481eb8",
       "rows": [
        [
         "0",
         "0.0",
         "0.0",
         "0.0",
         "0.0",
         "0.0",
         "0.0",
         "0.0",
         "0.0005074884854334",
         "0.0003136355684545",
         "0.000416344469778",
         "0.000541625074924",
         "0.000536102459355",
         "0.0005075865175265",
         "0.0006442798441502",
         "0.0006443123935438",
         "0.0006756911219025",
         "0.0006798672568438",
         "0.000730382387716",
         "0.0006747969582814",
         "0.0006876151617538",
         "0.0006914893893167",
         "0.0006938517290683",
         "0.0002206168835637",
         "0.000379197233083",
         "0.0003775495909809",
         "0.0003857292231673",
         "0.0006258304239208",
         "0.0002119368265719",
         "0.0002039452853497",
         "0.0002069670607219",
         "0.0003159135273152",
         "0.0005342568248824",
         "0.0005343363364195",
         "0.0005220625494636",
         "0.0002563870211846",
         "0.0003011506031647",
         "0.0003776781266446",
         "0.0003879637369351",
         "0.0003872725756829",
         "0.0003571686097482",
         "0.0005350618778058",
         "0.0006537058929006",
         "0.000627883778063",
         "0.0007203313903537",
         "0.0008415277809503",
         "0.0008412388708887",
         "0.0008133833079417",
         "0.0008409910842123",
         "0.0008132245359984",
         "0.0008041166566424",
         "0.0007067729253205",
         "0.0007066227083256",
         "0.0004871275936842",
         "0.0003464696117756",
         "0.0002141501790838",
         "0.0002140720624262",
         "0.0001685190180701",
         "0.0003153859556536",
         "0.0004979620551633",
         "0.0008505634639045",
         "0.000379107870601",
         "0.0003768635912693",
         "0.0003751833709166",
         "0.0003736035940646",
         "0.0002416033258438",
         "0.0002271636049598",
         "0.0003546122123333",
         "0.0003537233474318",
         "0.0003446166035811",
         "0.0008507247262081",
         "0.000315530285017",
         "0.0002141824125641",
         "0.0008414307746772",
         "0.0006536420399688",
         "0.0003233986900891",
         "0.0004402820338633",
         "0.0005370535453045",
         "0.0004197393271842",
         "0.0002889923647989",
         "0.0003233941631216",
         "0.0005370246986414",
         "0.0006111587051323",
         "0.0003154795383589",
         "0.000732833461099",
         "0.0008417026049623",
         "0.0007475805204829",
         "0.00034652745589",
         "0.0004996155089365",
         "0.0007462913210148",
         "0.0006527490583859",
         "0.0005345147635941",
         "0.0001673523284011",
         "0.0008019360498215",
         "0.0007456561684319",
         "0.0008030028322206",
         "0.0004096788486447",
         "0.0007059806208142",
         "0.0007823062994171",
         "0.0008094906834394",
         "0.0004872753171765",
         "0.0003837380310216",
         "0.0008094280638001",
         "0.0007827217157913",
         "0.0006260723892616",
         "0.0001683718177671",
         "0.0005105994640541",
         "0.0003848293211661",
         "0.0003529317157652",
         "0.0004289278364241",
         "0.0001324803762607",
         "0.0006336523052033",
         "0.0002795708907913",
         "0.0001323454818978",
         "0.0006177878229601",
         "0.0002795263885289",
         "0.0",
         "0.0",
         "0.0",
         "0.0",
         "0.0",
         "0.0",
         "0.0",
         "0.0001869640649625",
         "0.0001867454648624",
         "0.0001913920782443",
         "7.094383166269744e-05",
         "0.0001345043081965",
         "0.0002292369164892",
         "0.0003213624360526",
         "0.0003879535006703",
         "0.0003378339730275",
         "0.0003380852477369",
         "0.0001145300864283",
         "0.0002518496628474",
         "0.0001898828822994",
         "0.0001586981919348",
         "0.0001272289834709",
         "7.357469798274178e-05",
         "0.0001658819977986",
         "0.0001218640149066",
         "0.0001251134337864",
         "0.0004059423278511",
         "0.0001670052242131",
         "0.0001671955605497",
         "8.67720447695825e-05",
         "0.0001214505977925",
         "0.0002442482369536",
         "0.0002972286732237",
         "0.0002449841233292",
         "0.0001072688898169",
         "0.0001174552513683",
         "0.0002077235348735",
         "0.000208083234983",
         "0.0001885985402063",
         "0.0002066426552813",
         "0.00027177338369",
         "0.0004087705725106",
         "0.0004089438093577",
         "0.0004748723511895",
         "0.0005386334757525",
         "0.0005326809198044",
         "0.0005327433256217",
         "0.0004505401565194",
         "0.0004505568646636",
         "0.0005008728912625",
         "0.0004454939134203",
         "0.0003754979805553",
         "0.0002766988193441",
         "0.0001380056513475",
         "0.0001097464489585",
         "0.0001051038985137",
         "0.0001402045041505",
         "0.000185530683336",
         "0.0003471812932067",
         "0.0005501195355365",
         "8.730905295751884e-05",
         "0.0001587835586887",
         "8.250888388590134e-05",
         "8.630755554205885e-05",
         "4.58365870455548e-05",
         "4.582025579417015e-05",
         "0.0001048747329402",
         "6.659903288909431e-05",
         "8.768741970973347e-05",
         "0.0005971965123581",
         "0.0002629463260659",
         "0.0001133142926002",
         "0.0004922453595288",
         "0.0003729407373254",
         "0.0001436818249664",
         "0.0002436172665687",
         "0.000330938619166",
         "0.0002974792917426",
         "0.000168106374624",
         "0.0001878728685497",
         "0.0003925970099666",
         "0.000475944234037",
         "0.0002060261765734",
         "0.0004752819454221",
         "0.0005796573151079",
         "0.0005133510803417",
         "0.0001550033194948",
         "0.0002308702622079",
         "0.0003526257674547",
         "0.0002990840928492",
         "0.0002403035977749",
         "4.985317288576071e-05",
         "0.000182111636638",
         "0.0001351123448507",
         "0.0003239378327275",
         "0.0001344326622839",
         "0.0003549135876291",
         "0.0003925148573725",
         "0.0001589049409818",
         "0.0001437171667471",
         "7.129780638272893e-05",
         "0.0002737005148049",
         "0.000217591099829",
         "0.0001610182577122",
         "0.0001167340076746",
         "0.0001940218547622",
         "0.0001351702376892",
         "0.0001219030851572",
         "0.0002759984212019",
         "7.216144385940957e-05",
         "0.0002874907103209",
         "0.0001185888500268",
         "5.067359725811677e-05",
         "0.0002163192040957",
         "8.877352073828008e-05",
         "0.0",
         "0.0",
         "0.0",
         "0.0",
         "0.0",
         "0.0",
         "0.0",
         "0.0001139822757366",
         "1.7475193685849888e-05",
         "1.6743776961438707e-05",
         "7.13530292316268e-05",
         "7.141174036603883e-05",
         "9.039530670835409e-05",
         "3.3803010954133e-05",
         "2.9848878741388103e-05",
         "4.094630231442917e-05",
         "5.001522441264389e-05",
         "7.204188022697823e-05",
         "7.941168171488565e-05",
         "7.487315259601182e-05",
         "6.805876315654725e-05",
         "5.845634837820706e-05",
         "2.476722914260596e-05",
         "2.4394725168176007e-05",
         "6.826333190712602e-06",
         "5.685100381603187e-06",
         "0.0001255556044325",
         "0.0001168493710876",
         "0.0001077959930406",
         "9.109758981474896e-05",
         "8.588225619988185e-05",
         "7.708669076459708e-05",
         "6.645438759297472e-05",
         "6.914955538160628e-05",
         "4.6402184485232775e-06",
         "4.011821192570844e-05",
         "1.0902249514157731e-05",
         "1.0544420644153432e-05",
         "0.0001668995674221",
         "1.4958130262559663e-05",
         "0.0001547780085075",
         "2.57337383551084e-05",
         "2.6659722812550106e-05",
         "3.134035038892245e-05",
         "3.9785804845469215e-05",
         "4.579964571828441e-05",
         "4.731511436318584e-05",
         "0.0001272484066353",
         "4.442940848265755e-05",
         "5.1699231862927615e-05",
         "5.915827971423606e-05",
         "5.526282960992626e-05",
         "6.955797073331603e-05",
         "6.992965334659345e-05",
         "9.510687786278784e-05",
         "7.798633907696436e-05",
         "8.422895548520137e-05",
         "8.519075180011626e-05",
         "8.608741319465589e-05",
         "8.28998336930612e-05",
         "5.470994422033691e-06",
         "1.7305546611608147e-05",
         "2.99333967247506e-06",
         "6.303208187649666e-06",
         "2.9081977528162503e-05",
         "4.21967966682936e-05",
         "3.802921517017169e-06",
         "3.5038221616236903e-06",
         "2.76651871165039e-05",
         "0.0001401406061484",
         "0.0001656703980923",
         "0.0001601797409927",
         "0.0001449784997998",
         "0.0001350006746441",
         "0.0001485441992712",
         "0.0001365826835531",
         "0.0001198362350739",
         "0.0001059431953751",
         "9.9557007964574e-05",
         "0.0001563571054335",
         "0.0001221622732302",
         "9.823262441521676e-05",
         "0.0001239067461261",
         "6.372250578670147e-05",
         "3.0286847074867743e-05",
         "4.139002363978236e-05",
         "8.889444674731791e-05",
         "8.019450039531287e-05",
         "2.224000084434985e-05",
         "2.622756927976236e-05",
         "2.863804679310749e-05",
         "2.370246688214136e-05",
         "1.4204158725165256e-05",
         "8.237978274217895e-06",
         "5.015687193644968e-05",
         "4.353963246075329e-05",
         "6.60473605184884e-05",
         "3.114271301270894e-05",
         "2.605587169761565e-05",
         "1.8276834952556218e-05",
         "4.678382934499985e-06",
         "4.4562854397139137e-05",
         "1.6955874792810594e-05",
         "1.253952447864996e-05",
         "9.22412899889086e-05",
         "2.7797118537226453e-05",
         "2.8015987084870487e-05",
         "2.9124806245313297e-05",
         "0.0001175964052012",
         "0.0001451182596418",
         "3.70282205188633e-05",
         "7.157900153461965e-05",
         "3.5435853618836534e-05",
         "4.396141826978255e-05",
         "7.178028320829061e-05"
        ],
        [
         "1",
         "0.0",
         "0.0",
         "0.0",
         "0.0",
         "0.0",
         "0.0",
         "0.0",
         "0.0016010981980261",
         "0.0010985614202639",
         "0.0013973887669233",
         "0.0016942276739497",
         "0.0016792274971626",
         "0.0016013237551786",
         "0.0020531346573158",
         "0.0020532336861923",
         "0.0021298612506345",
         "0.0021307845552636",
         "0.0022592752429837",
         "0.0020996285376331",
         "0.0021341876274997",
         "0.002144595327513",
         "0.0021509367669478",
         "0.0006331608405482",
         "0.0010897840268316",
         "0.0010837826757157",
         "0.0011398789903833",
         "0.0020271025050549",
         "0.0007460141659511",
         "0.0007181893276318",
         "0.0006339072081376",
         "0.0009886509870009",
         "0.0016567873601233",
         "0.0016570219832199",
         "0.0016149496030578",
         "0.0007753749889438",
         "0.0008818295374534",
         "0.0011072519978816",
         "0.0011477553797418",
         "0.0011004277178876",
         "0.0010303351970808",
         "0.0017415120450143",
         "0.0020772067158029",
         "0.0020032936485887",
         "0.0022623526852277",
         "0.002597082526878",
         "0.0025795981978624",
         "0.0024918806607073",
         "0.002578895728965",
         "0.0024914755217399",
         "0.0024547471754401",
         "0.0021512965063181",
         "0.0021508968866284",
         "0.0015018069974492",
         "0.0010733916533139",
         "0.0006562188759137",
         "0.0006558303710265",
         "0.0005375209173822",
         "0.0010267698074725",
         "0.001574730682928",
         "0.0026394291734208",
         "0.0010853628267014",
         "0.001105078049605",
         "0.0011015929798406",
         "0.0010703443169077",
         "0.000691695029312",
         "0.0006540984337574",
         "0.0010465962152305",
         "0.0010424223689809",
         "0.0010158835779669",
         "0.002639882391679",
         "0.0010272078744376",
         "0.0006563047421386",
         "0.0025968571080086",
         "0.0020773158806563",
         "0.0009983568787893",
         "0.0013609145502272",
         "0.0016645384539594",
         "0.0014072315058221",
         "0.0008319942111287",
         "0.0009983506777876",
         "0.0016644591975224",
         "0.0019017885710494",
         "0.0010270286453151",
         "0.002230714553365",
         "0.0025975695745054",
         "0.0023376501810309",
         "0.0010600977924874",
         "0.0015206042239246",
         "0.0023339753937558",
         "0.002074423033502",
         "0.0017396978865646",
         "0.0005326403124112",
         "0.0024484204084717",
         "0.0023318986511088",
         "0.0024516481978391",
         "0.0013654639563334",
         "0.0021492002058425",
         "0.0024306506739021",
         "0.0025208234373381",
         "0.0015023400753577",
         "0.0012805561408638",
         "0.0025206375750131",
         "0.0024324303387291",
         "0.0019991881109482",
         "0.0005371260984324",
         "0.0016693083764768",
         "0.0012840560668451",
         "0.0009795783165199",
         "0.0013311787133782",
         "0.0004393381813238",
         "0.0019791206390478",
         "0.000782458503825",
         "0.0004391562943734",
         "0.0019787374488396",
         "0.0007823766628218",
         "0.0",
         "0.0",
         "0.0",
         "0.0",
         "0.0",
         "0.0",
         "0.0",
         "0.0004960366623505",
         "0.0005502693325394",
         "0.0005544064867173",
         "0.0002147823250859",
         "0.0003760664969698",
         "0.0006286365856542",
         "0.0009077748302306",
         "0.0011052111466586",
         "0.0009532283678685",
         "0.0009547179790979",
         "0.0003377291745942",
         "0.0006922541657305",
         "0.0005272464129567",
         "0.0004441989294553",
         "0.0003603897543804",
         "0.0001804549669039",
         "0.0004493080642713",
         "0.0003303516349492",
         "0.000338764644727",
         "0.0011074245120412",
         "0.0004584113298377",
         "0.000458746819238",
         "0.000263470209172",
         "0.0003653534278038",
         "0.0007006372124937",
         "0.0008542212648536",
         "0.0007027723612419",
         "0.0002851783416285",
         "0.0002936840783652",
         "0.0005655096932169",
         "0.0005666115197583",
         "0.0003978264965252",
         "0.0005560692477592",
         "0.0007746959630739",
         "0.0011614354663854",
         "0.0011619978850242",
         "0.0013427884506934",
         "0.0015173484835719",
         "0.0015006454026766",
         "0.0015009032913666",
         "0.0012584209289638",
         "0.0012586222342962",
         "0.0014127708903867",
         "0.0012600245820715",
         "0.0010558157507148",
         "0.0007940410637348",
         "0.0004103838622136",
         "0.0003314372391704",
         "0.0003150511703938",
         "0.0004047825054613",
         "0.0005214968080982",
         "0.0009423687231344",
         "0.001492363355264",
         "0.0001973569914352",
         "0.0004281146378121",
         "0.0002253444410781",
         "0.0001942588103734",
         "0.0001079052011394",
         "0.0001082601582211",
         "0.0002825224000532",
         "0.000153479350131",
         "0.0002149348968072",
         "0.0016172593230272",
         "0.0007133055920126",
         "0.0003412802765746",
         "0.0013706759861254",
         "0.0010483413541464",
         "0.0004257138561726",
         "0.00069737642556",
         "0.0009345094761416",
         "0.0008449505004291",
         "0.0004251388418307",
         "0.0005492286456326",
         "0.0011128002232241",
         "0.0013425873233485",
         "0.0005725111118374",
         "0.0013408248800892",
         "0.001629270380468",
         "0.0014482897365079",
         "0.0004592205483151",
         "0.0006698647978658",
         "0.0010072691784517",
         "0.0008590671610678",
         "0.0006981441178864",
         "0.0001595904904134",
         "0.0005459302852024",
         "0.0004111465722261",
         "0.0009169236195962",
         "0.0004004001215298",
         "0.0010143287441378",
         "0.001118055864777",
         "0.0004618795311586",
         "0.0004346288854042",
         "0.0002063542756812",
         "0.0007548770432604",
         "0.0006278081470904",
         "0.0004736654992225",
         "0.0003421397325108",
         "0.000562955138356",
         "0.0004035574443882",
         "0.0002900469451",
         "0.000792157941685",
         "0.0002230864265871",
         "0.0008334018431555",
         "0.0003173834907868",
         "0.0001620128258748",
         "0.0006242058866101",
         "0.0001956954695652",
         "0.0",
         "0.0",
         "0.0",
         "0.0",
         "0.0",
         "0.0",
         "0.0",
         "0.0003199016550354",
         "5.436263966976374e-05",
         "5.450381593883713e-05",
         "0.0002085801123401",
         "0.000195532753445",
         "0.000260286340948",
         "0.0001071503434115",
         "9.734663823468916e-05",
         "0.0001288256758315",
         "0.0001562256282002",
         "0.0002106221989813",
         "0.0002209611153403",
         "0.0002107649596532",
         "0.0001935318301018",
         "0.0001694127737314",
         "7.278627964773111e-05",
         "6.786756583194938e-05",
         "2.0719323768853568e-05",
         "1.7183967682123384e-05",
         "0.0003873823672989",
         "0.0003594336575178",
         "0.000333041262858",
         "0.000281976651754",
         "0.0002668647708745",
         "0.0002378102227778",
         "0.0002035825721336",
         "0.0002166012755015",
         "1.32528623823446e-05",
         "0.0001172111791746",
         "3.205045166777392e-05",
         "3.1066298404473064e-05",
         "0.0001286044960751",
         "4.42699251566904e-05",
         "0.0001091684142276",
         "7.655835459920417e-05",
         "7.862565978346834e-05",
         "9.241469024625844e-05",
         "0.0001184304289842",
         "0.0001362828779522",
         "0.000139298591416",
         "9.738348213274374e-05",
         "0.0001237879014907",
         "0.0001537687032767",
         "0.0001739331918904",
         "0.000155817182874",
         "0.000204284074304",
         "0.0001990209014402",
         "0.0001418189455188",
         "0.0002314490329025",
         "0.0002470271903883",
         "0.0002526936453642",
         "0.0001668806055504",
         "0.0001757266500163",
         "1.5890010276920603e-05",
         "5.178191672784141e-05",
         "1.0485582933062435e-05",
         "1.985751487528665e-05",
         "8.111561595148967e-05",
         "0.000121577040577",
         "1.13685248757857e-05",
         "1.0169534151575676e-05",
         "8.04281054015816e-05",
         "0.0003285211827677",
         "0.0004071997118772",
         "0.0003888461985262",
         "8.006289336411038e-05",
         "9.663658914370656e-05",
         "0.0004379418327746",
         "0.0004036381392771",
         "0.0003560909976986",
         "0.0002763045489016",
         "0.000256905800988",
         "0.0004476119152237",
         "0.0003496756033335",
         "0.00028154126673",
         "0.0003763372619018",
         "0.0002001144636127",
         "9.7473507419362e-05",
         "0.000110849795449",
         "0.0002494819318137",
         "0.0002262732175481",
         "6.852239565534747e-05",
         "7.836448750145499e-05",
         "8.383007959108043e-05",
         "7.066201932711812e-05",
         "4.28589531027108e-05",
         "2.5270954594462647e-05",
         "0.0001589773510423",
         "0.0001217238827496",
         "0.0001905633529569",
         "9.305720718007845e-05",
         "7.427703093771342e-05",
         "5.223625767586935e-05",
         "1.5906167197406358e-05",
         "0.0001264939347422",
         "5.060039468834693e-05",
         "3.842139271264552e-05",
         "0.0002521025962952",
         "9.22174987679304e-05",
         "9.276431118163368e-05",
         "9.127349583295922e-05",
         "0.000324167803646",
         "0.0004458942221143",
         "0.0001316672850409",
         "0.000238500699238",
         "9.963495046599424e-05",
         "0.0001386771990794",
         "0.0002413683106453"
        ],
        [
         "2",
         "0.0",
         "0.0",
         "0.0",
         "0.0",
         "0.0",
         "0.0",
         "0.0",
         "5.8171169975765324e-06",
         "1.5933419762414157e-06",
         "2.079200494333258e-06",
         "6.602483327625836e-06",
         "6.472026512292783e-06",
         "5.825990370130624e-06",
         "3.047569650348539e-06",
         "3.0517104965808485e-06",
         "3.1610370818044298e-06",
         "3.1140563083137222e-06",
         "8.20003578304307e-06",
         "1.052889228572956e-05",
         "1.0898023136731209e-05",
         "1.10140890254173e-05",
         "1.1085894560661096e-05",
         "1.5663635508273465e-06",
         "3.652651787751197e-06",
         "3.6636984489012495e-06",
         "3.811482639244808e-06",
         "5.836267436057786e-06",
         "1.5408767255822853e-06",
         "3.352929358859446e-06",
         "1.4840742814800467e-06",
         "5.981644790984016e-07",
         "2.041870145241928e-06",
         "2.0457540132440928e-06",
         "1.3349118847135228e-06",
         "1.2813636476869446e-06",
         "2.705221407866591e-06",
         "4.548167420650881e-06",
         "3.830620050611355e-06",
         "4.418082250423443e-06",
         "3.617208466212205e-06",
         "5.054437683534377e-06",
         "5.948885289416839e-06",
         "8.022954327749853e-06",
         "7.982242367833396e-06",
         "7.11171807273904e-06",
         "6.846369038381907e-06",
         "6.068540818048951e-06",
         "6.8488483408804535e-06",
         "6.052652088633568e-06",
         "6.213246214403605e-06",
         "3.507195984411224e-06",
         "3.498332738921715e-06",
         "1.059531324626526e-06",
         "1.537004864958116e-06",
         "2.415191110463971e-06",
         "2.433195401244754e-06",
         "5.075751380882889e-06",
         "4.087565332915738e-06",
         "5.628188449728622e-06",
         "8.24506626290536e-06",
         "3.8151770232154256e-06",
         "4.533418682083664e-06",
         "4.495498034684758e-06",
         "5.469516957787746e-06",
         "1.868095224928125e-06",
         "1.566148387801712e-06",
         "4.052004936583309e-06",
         "4.185230271305795e-06",
         "4.3141996548101e-06",
         "8.247144134526652e-06",
         "4.0836669732355335e-06",
         "2.416025003690482e-06",
         "7.1065349008421486e-06",
         "5.944635435772491e-06",
         "7.61684460949888e-07",
         "1.4520608696711595e-06",
         "2.063508654196085e-06",
         "2.092109644665288e-06",
         "1.5588140818540396e-06",
         "7.635901542687486e-07",
         "2.065707746672237e-06",
         "2.565250689259336e-06",
         "4.0895135936872e-06",
         "5.258291477968453e-06",
         "7.114662857606383e-06",
         "6.570640848467188e-06",
         "1.6839266796216053e-06",
         "2.570318719169462e-06",
         "6.537671301558648e-06",
         "5.920133169442024e-06",
         "5.025585027729901e-06",
         "3.127262981900158e-06",
         "6.157476411764763e-06",
         "6.494479386548804e-06",
         "6.190141150433023e-06",
         "4.027959673781612e-06",
         "3.5057756176175644e-06",
         "7.6232032451356785e-06",
         "1.090205843742246e-05",
         "1.0606043260872125e-06",
         "7.170486309268328e-06",
         "1.0888751032199128e-05",
         "7.588616670228766e-06",
         "7.96326411017464e-06",
         "5.0422098280626096e-06",
         "7.711395872802077e-06",
         "7.171026419401541e-06",
         "6.406319269104677e-06",
         "4.487012183530565e-07",
         "2.3950835681533e-06",
         "2.6902665524178906e-06",
         "3.3622724365191714e-06",
         "2.3759975810127675e-06",
         "4.006585161612513e-06",
         "3.374860983872764e-06",
         "0.0",
         "0.0",
         "0.0",
         "0.0",
         "0.0",
         "0.0",
         "0.0",
         "3.391494929129088e-06",
         "2.684616886804853e-06",
         "7.730954283067344e-06",
         "3.047564625188631e-06",
         "5.527518648817731e-06",
         "7.88058850683548e-06",
         "8.225998605433204e-06",
         "4.9472955138997465e-06",
         "7.757756427842618e-06",
         "6.967764010432369e-06",
         "4.165113096421874e-06",
         "8.455167047407577e-06",
         "7.046327578087079e-06",
         "6.3348617006558005e-06",
         "5.6167974652156975e-06",
         "1.776334028368758e-06",
         "2.513020159571489e-06",
         "1.4135497334621158e-06",
         "1.3967920143233457e-06",
         "1.2089866226095802e-05",
         "6.493631456949494e-06",
         "6.507729799682652e-06",
         "1.7777216369836696e-06",
         "6.529618140522917e-07",
         "2.9528691287756983e-06",
         "2.8267450492471674e-06",
         "2.970596858416512e-06",
         "2.285032175499118e-06",
         "2.9606158914717324e-06",
         "3.311531109409689e-06",
         "3.3204785763996623e-06",
         "6.74979883884437e-06",
         "3.847043543246231e-06",
         "9.954506460609187e-06",
         "6.314277308554911e-06",
         "6.30482731777543e-06",
         "6.978127295494824e-06",
         "7.278489110734004e-06",
         "6.881873928041293e-06",
         "6.866974738693743e-06",
         "8.62220137673854e-06",
         "8.645728978082592e-06",
         "6.144481733885016e-06",
         "5.173006343534015e-06",
         "5.401711305838813e-06",
         "2.6209127092901435e-06",
         "1.2677606108740076e-06",
         "3.704993354666959e-06",
         "2.84292973771753e-06",
         "3.370976041145628e-06",
         "4.239008261528246e-06",
         "1.0807443700098737e-05",
         "1.516886884156334e-05",
         "3.4809318178398354e-06",
         "2.2567810443773536e-06",
         "1.569972342731557e-06",
         "3.5438102981110017e-06",
         "1.1098843524661952e-06",
         "1.1063033808838093e-06",
         "1.5083419581921227e-06",
         "1.472848935052642e-06",
         "2.1141857260661187e-06",
         "1.618666760618817e-05",
         "9.186596489649616e-06",
         "4.061860961262963e-06",
         "1.0330175293277416e-05",
         "1.1233678054105953e-05",
         "1.473242927744128e-06",
         "1.8902399835596057e-06",
         "3.5204717345987784e-06",
         "1.0676798933387049e-05",
         "8.447075736036334e-06",
         "2.532719764746199e-06",
         "4.388462170023741e-06",
         "5.699662365766037e-06",
         "4.724963114034059e-06",
         "5.686097619975877e-06",
         "8.01065425806366e-06",
         "7.707011905569439e-06",
         "1.716603948846658e-06",
         "1.917425763882201e-06",
         "4.739841567961284e-06",
         "4.2564777110454255e-06",
         "3.5638119151755465e-06",
         "1.506208091814322e-06",
         "3.4617986169702293e-06",
         "4.100100338450972e-06",
         "5.901883860633334e-06",
         "7.003534093047458e-06",
         "3.646666413725797e-06",
         "4.998564420401891e-06",
         "6.132875724907088e-06",
         "1.479307919757316e-06",
         "3.1530438469336947e-06",
         "9.192625183056192e-06",
         "6.292586954609889e-06",
         "6.136281732657559e-06",
         "4.5764134555455215e-06",
         "7.812493847908692e-06",
         "7.056050353565035e-06",
         "6.093321418793366e-06",
         "2.6134288415068443e-06",
         "8.193916877837631e-07",
         "2.4425970793669205e-06",
         "1.4414072111649905e-06",
         "1.5037633345206052e-06",
         "6.269477861157264e-06",
         "4.370626859821823e-06",
         "0.0",
         "0.0",
         "0.0",
         "0.0",
         "0.0",
         "0.0",
         "0.0",
         "1.3983260610350538e-06",
         "2.421089112233173e-07",
         "3.4719052620162897e-07",
         "1.3667007366982545e-06",
         "2.008605610452112e-06",
         "2.489592694615768e-06",
         "5.757734510781955e-07",
         "1.901459609340774e-07",
         "6.608905845512927e-07",
         "7.623826899822057e-07",
         "1.3787235631349036e-06",
         "1.6693240399850984e-06",
         "1.7747699536750229e-06",
         "1.7227332463498358e-06",
         "1.619091753222532e-06",
         "1.1673840328161109e-07",
         "4.424926299576807e-07",
         "7.285023344408327e-08",
         "6.219516840221895e-08",
         "8.198292137155384e-07",
         "1.2304444472124997e-06",
         "9.421084033916654e-07",
         "6.906460351473753e-07",
         "9.528266850030592e-07",
         "1.023271847498024e-06",
         "2.289980787812014e-07",
         "8.934010770638673e-07",
         "7.966654537343092e-08",
         "3.612770596237874e-07",
         "1.2350293982209834e-07",
         "1.483470071235015e-07",
         "1.6186667606187953e-05",
         "1.896850720417868e-07",
         "1.5460493516417854e-05",
         "2.903172621577469e-07",
         "2.9047731622106575e-07",
         "3.407201237974394e-07",
         "4.16869421576661e-07",
         "4.690690400092901e-07",
         "5.095421727503713e-07",
         "1.4173651899128456e-05",
         "9.078916310509576e-07",
         "5.192875486832553e-07",
         "6.315971383327734e-07",
         "1.0561035067395135e-06",
         "7.363097206652264e-07",
         "1.247923963494565e-06",
         "1.2993490262694364e-05",
         "7.30241056372781e-07",
         "8.803560879074024e-07",
         "7.84942911865108e-07",
         "1.2694694127690382e-05",
         "1.2596514690617518e-05",
         "1.915268092590963e-07",
         "2.81179354116607e-07",
         "9.390169506339489e-08",
         "1.497532793592803e-07",
         "8.263112962424542e-07",
         "8.463288173013748e-07",
         "4.308752140152962e-08",
         "9.316005086373937e-08",
         "4.271487583706402e-07",
         "1.477916660691525e-05",
         "1.4594278964560265e-05",
         "1.4910087441235708e-05",
         "1.555934302598295e-05",
         "1.5787734910500636e-05",
         "3.6024513664498963e-06",
         "3.441578925425119e-06",
         "3.1889764792843644e-06",
         "1.3674658759191703e-06",
         "1.6773141722241022e-06",
         "2.056311153884622e-06",
         "1.7406886796619836e-06",
         "1.4769898822961786e-06",
         "1.1801354045165233e-07",
         "1.967957035060105e-07",
         "4.016516799363853e-07",
         "6.913463181181418e-07",
         "1.1413132360712716e-06",
         "1.0660071826976668e-06",
         "2.730988054171991e-07",
         "2.388091932902892e-07",
         "3.1935331781238657e-07",
         "6.707602781852382e-07",
         "4.4018311497202026e-07",
         "2.7371477665230414e-07",
         "1.4959752209244806e-06",
         "9.726897263145044e-07",
         "9.24132604718242e-07",
         "3.28306497260854e-07",
         "7.192317528842421e-07",
         "5.405765959202728e-07",
         "1.5732397787134894e-07",
         "9.504676731224332e-07",
         "3.9730664954048354e-07",
         "2.97328599412177e-07",
         "1.6917902349907876e-06",
         "4.6108979055270693e-07",
         "6.497431003435879e-07",
         "7.605435425191731e-07",
         "1.837093017907372e-06",
         "1.743290898763899e-06",
         "8.503349281654202e-07",
         "4.67581656008177e-07",
         "1.087545387905849e-06",
         "3.849756635677069e-08",
         "1.4225498730175356e-07"
        ],
        [
         "3",
         "0.0",
         "0.0",
         "0.0",
         "0.0",
         "0.0",
         "0.0",
         "0.0",
         "0.000762314576031",
         "0.0004985131564554",
         "0.0006544235497243",
         "0.0008100065485594",
         "0.00080231326481",
         "0.0007624390939519",
         "0.0009990929570229",
         "0.0009991288049447",
         "0.0010454536457678",
         "0.0010503312733657",
         "0.0010936787284105",
         "0.0010312235145193",
         "0.0010495059948205",
         "0.0010550180647617",
         "0.0010583791928176",
         "0.0003325662580768",
         "0.0005665165994929",
         "0.0005638122533783",
         "0.0005786652392985",
         "0.0009809835359096",
         "0.0003308487206491",
         "0.0003230492958209",
         "0.0003192291711761",
         "0.0004963213423821",
         "0.0008254722347743",
         "0.0008255803566765",
         "0.0008148962616317",
         "0.0003890343095704",
         "0.000458172814577",
         "0.0005765573466451",
         "0.0005821487155309",
         "0.0005756577969134",
         "0.0005301893345649",
         "0.000821330735647",
         "0.0009986924886457",
         "0.0009758111950499",
         "0.0011156533998037",
         "0.0012789711410698",
         "0.0012782946114509",
         "0.0012545779661782",
         "0.0012779270671543",
         "0.0012543375467094",
         "0.001222502054653",
         "0.001090723189743",
         "0.0010904930273059",
         "0.0007569321470223",
         "0.0005416651353672",
         "0.0003308283709706",
         "0.0003307099113657",
         "0.0002640695156148",
         "0.0004742558585923",
         "0.0007489152225961",
         "0.0012819474261118",
         "0.0005655586325689",
         "0.0005753821663013",
         "0.0005730547022709",
         "0.0005675917067027",
         "0.0003634164159251",
         "0.0003436055840632",
         "0.0005256714942325",
         "0.0005230809622816",
         "0.0005084425801595",
         "0.0012821809433838",
         "0.0004744651662365",
         "0.0003308750748133",
         "0.0012788343223172",
         "0.000998635188096",
         "0.0005016715933847",
         "0.0006809718565721",
         "0.0008296373633879",
         "0.0006596056347693",
         "0.0004349561117615",
         "0.0005016616747028",
         "0.000829586131213",
         "0.0009438345263503",
         "0.0004743882183736",
         "0.0011155394727762",
         "0.0012792248891716",
         "0.0011388446334653",
         "0.000535613992653",
         "0.0007655703436112",
         "0.0011370205303267",
         "0.0009973542715533",
         "0.0008206091765192",
         "0.0002566828264655",
         "0.0012193754497751",
         "0.0011362215522305",
         "0.0012209068974044",
         "0.0006331830132206",
         "0.0010895750381582",
         "0.0012091524408779",
         "0.0012424927394846",
         "0.0007571707043728",
         "0.0006044495375863",
         "0.0012423748333159",
         "0.0012098813059707",
         "0.0009732703303007",
         "0.0002638440877521",
         "0.0007981285631458",
         "0.0006060627594854",
         "0.000532582906571",
         "0.0006697486374802",
         "0.0002103050685097",
         "0.0009904775667435",
         "0.000425032476924",
         "0.000210139058521",
         "0.0009708130381376",
         "0.000424971073739",
         "0.0",
         "0.0",
         "0.0",
         "0.0",
         "0.0",
         "0.0",
         "0.0",
         "0.0002632441623096",
         "0.0002749462294258",
         "0.0002779643144479",
         "0.0001086439409446",
         "0.0001960698496786",
         "0.0003284067963587",
         "0.000469656535101",
         "0.0005665827883186",
         "0.0004949796096211",
         "0.0004968167206088",
         "0.000174684968911",
         "0.000365204995534",
         "0.0002784421646733",
         "0.0002347887867098",
         "0.0001907334523145",
         "0.0001019338252938",
         "0.0002393033995524",
         "0.0001772546831629",
         "0.0001820132068674",
         "0.0005858153962058",
         "0.0002368891247486",
         "0.0002371378392612",
         "0.0001315920974795",
         "0.0001871226398222",
         "0.0003642188448828",
         "0.0004407415555801",
         "0.0003653939303946",
         "0.0001500883898358",
         "0.0001663433917369",
         "0.0002977249761146",
         "0.0002982620435403",
         "0.0002519842637494",
         "0.0002974628740075",
         "0.0003913060571614",
         "0.0005907067631192",
         "0.0005910431791119",
         "0.0006873612387844",
         "0.0007823241440347",
         "0.0007753667187309",
         "0.0007755637677786",
         "0.0006561412109221",
         "0.0006563011432618",
         "0.0007310131857425",
         "0.0006525767911317",
         "0.0005512693243335",
         "0.0004109558296463",
         "0.0002114723290221",
         "0.0001634013713161",
         "0.00015860967519",
         "0.0002024897610774",
         "0.0002628587574102",
         "0.0004932695989548",
         "0.0007878943982151",
         "0.0001228549791172",
         "0.0002295868605773",
         "0.000121860147802",
         "0.0001213043996182",
         "6.435096281804092e-05",
         "6.447020881561656e-05",
         "0.0001500539141656",
         "9.557719017357774e-05",
         "0.0001249663968514",
         "0.000853732768653",
         "0.0003706082356789",
         "0.0001681970625491",
         "0.0007134905618241",
         "0.0005370397410008",
         "0.0002197413139895",
         "0.0003630157544491",
         "0.0004877838096254",
         "0.0004274922927582",
         "0.0002302659649609",
         "0.0002825064007399",
         "0.0005769272497814",
         "0.0006958289472708",
         "0.0002894538208998",
         "0.0006949012104253",
         "0.0008405143770146",
         "0.0007417586543368",
         "0.0002343274663232",
         "0.0003450421977754",
         "0.0005140467600312",
         "0.0004353375283928",
         "0.0003534413964928",
         "7.761217141066346e-05",
         "0.0002788211601057",
         "0.0002079174507311",
         "0.000477630244689",
         "0.0001988941061603",
         "0.0005236878418355",
         "0.0005732775267187",
         "0.0002420203186001",
         "0.0002201933906184",
         "0.0001048408916732",
         "0.000400838144249",
         "0.0003235494058268",
         "0.0002402054324177",
         "0.0001699243388651",
         "0.0002820276771666",
         "0.0002002458632797",
         "0.000167987846492",
         "0.0004099337799195",
         "0.0001084182567016",
         "0.0004281319192707",
         "0.0001725158325154",
         "7.887423892880506e-05",
         "0.0003216849652558",
         "0.0001238388602825",
         "0.0",
         "0.0",
         "0.0",
         "0.0",
         "0.0",
         "0.0",
         "0.0",
         "0.0001661102071366",
         "2.6232156868488253e-05",
         "2.57467626705876e-05",
         "0.0001074674436151",
         "0.0001064061836981",
         "0.0001358364574728",
         "5.160363300720926e-05",
         "4.646844547243892e-05",
         "6.238123079819005e-05",
         "7.606133580173786e-05",
         "0.0001085606971453",
         "0.0001165194016417",
         "0.000111134672125",
         "0.0001019841006606",
         "8.882814695289343e-05",
         "3.804454702066021e-05",
         "3.468491452412938e-05",
         "1.032883418622884e-05",
         "8.592320418526132e-06",
         "0.0001961209822405",
         "0.0001779116689347",
         "0.0001682201570235",
         "0.0001418435131443",
         "0.0001340651679838",
         "0.0001169916456824",
         "0.000102344653134",
         "0.0001081227460112",
         "6.792487817131428e-06",
         "6.134545463944792e-05",
         "1.6142323618564206e-05",
         "1.5723203604310317e-05",
         "0.0001633597213863",
         "2.2403216309017622e-05",
         "0.0001490073381287",
         "3.8713426795374656e-05",
         "3.955428795710545e-05",
         "4.649897381268572e-05",
         "5.99599199807635e-05",
         "6.904848484022628e-05",
         "7.019145400996118e-05",
         "0.0001144285078179",
         "6.479209968026918e-05",
         "7.796328022819407e-05",
         "8.775659646169105e-05",
         "8.087857912947652e-05",
         "0.0001031860340435",
         "0.0001026801455842",
         "8.81201189465746e-05",
         "0.0001176900012841",
         "0.0001249633728612",
         "0.000128580304931",
         "9.331841428384168e-05",
         "9.520260963873277e-05",
         "8.333678204908103e-06",
         "2.5972363163251507e-05",
         "4.722198132564608e-06",
         "9.561351922619666e-06",
         "4.339863809659926e-05",
         "6.378176892651811e-05",
         "5.737045835198297e-06",
         "5.292382439099055e-06",
         "4.0847835039502975e-05",
         "0.0001910056834264",
         "0.0002293990892931",
         "0.0002200624114139",
         "0.0001337615087925",
         "0.0001181995512944",
         "0.0002237201057874",
         "0.0002055727606553",
         "0.0001804313434858",
         "0.0001519488173853",
         "0.0001407642843969",
         "0.0002318153182104",
         "0.00018083858305",
         "0.0001453808417266",
         "0.0001922858011187",
         "9.976038415384551e-05",
         "4.604053086039786e-05",
         "5.96348456687276e-05",
         "0.0001292954892298",
         "0.0001164451341952",
         "3.471799615683321e-05",
         "3.984696566042924e-05",
         "4.2697490798376686e-05",
         "3.608603662709833e-05",
         "2.1674896022127977e-05",
         "1.2614726429629704e-05",
         "7.912379774250395e-05",
         "6.338432281539952e-05",
         "9.651179521015909e-05",
         "4.69282929332225e-05",
         "3.946932860693754e-05",
         "2.7725701128205552e-05",
         "7.246546205546102e-06",
         "6.54577195598905e-05",
         "2.4985317317580136e-05",
         "1.8645300201274265e-05",
         "0.0001334440441898",
         "4.384855146625502e-05",
         "4.402273116015142e-05",
         "4.427402180634467e-05",
         "0.0001687681463608",
         "0.0002246002961704",
         "5.882267568759771e-05",
         "0.0001120361447607",
         "5.35725678205009e-05",
         "6.826226331051226e-05",
         "0.0001133652513149"
        ],
        [
         "4",
         "0.0",
         "0.0",
         "0.0",
         "0.0",
         "0.0",
         "0.0",
         "0.0",
         "6.218642756374709e-05",
         "3.630808135450959e-05",
         "4.902494596192852e-05",
         "6.654868446837742e-05",
         "6.584073498861268e-05",
         "6.220651299157151e-05",
         "7.768907028661044e-05",
         "7.769461405060171e-05",
         "8.186697131841968e-05",
         "8.267850818369574e-05",
         "8.99446978344029e-05",
         "8.391320698947213e-05",
         "8.557507216485488e-05",
         "8.607868719996692e-05",
         "8.638694165895994e-05",
         "2.766788384068455e-05",
         "4.976142746971994e-05",
         "4.963154222983879e-05",
         "5.1952428773260895e-05",
         "7.654401508159353e-05",
         "2.5068530635614927e-05",
         "2.4712323148387907e-05",
         "2.539912292614013e-05",
         "3.8324056840141705e-05",
         "6.522028724135348e-05",
         "6.522961473150266e-05",
         "6.380308661844449e-05",
         "3.1996333270689105e-05",
         "3.754815605050248e-05",
         "4.664674926203871e-05",
         "5.217520963990072e-05",
         "5.471624741895838e-05",
         "4.580562386403281e-05",
         "6.391269687192752e-05",
         "7.869885825406361e-05",
         "7.563675456054644e-05",
         "8.738368433992838e-05",
         "0.0001029276008902",
         "0.0001029485104104",
         "9.973995271049876e-05",
         "0.000102923214943",
         "9.970896379759078e-05",
         "9.862486103558166e-05",
         "8.690511514449807e-05",
         "8.687785521155518e-05",
         "5.94779113449297e-05",
         "4.217386201990896e-05",
         "2.6255493664303865e-05",
         "2.625264126128132e-05",
         "2.965784105454032e-05",
         "3.835665326267293e-05",
         "6.100498523961551e-05",
         "0.0001046694256277",
         "5.056121760857631e-05",
         "4.654164719529799e-05",
         "4.627976595269253e-05",
         "4.660632391186373e-05",
         "3.027772964786469e-05",
         "2.8434566394946494e-05",
         "4.550251780964434e-05",
         "4.4960553778520575e-05",
         "4.351625034372791e-05",
         "0.0001046891928426",
         "3.836218470239586e-05",
         "2.625965273859109e-05",
         "0.0001029134330114",
         "7.866204244159208e-05",
         "3.960565484975804e-05",
         "5.3842260806401775e-05",
         "6.557518343097268e-05",
         "4.945278062751246e-05",
         "3.661396891981722e-05",
         "3.960538820922113e-05",
         "6.557168236699662e-05",
         "7.447807800344507e-05",
         "3.836856733173064e-05",
         "9.002826126277078e-05",
         "0.0001029485104104",
         "9.066585561498876e-05",
         "4.262331762659201e-05",
         "6.147327195981083e-05",
         "9.050165832476254e-05",
         "7.857546359347697e-05",
         "6.383473948524433e-05",
         "2.107652518352956e-05",
         "9.83502869023236e-05",
         "9.041641107428168e-05",
         "9.848508694752442e-05",
         "4.850535053069899e-05",
         "8.680314154418944e-05",
         "9.535172237319298e-05",
         "0.0001003509034738",
         "5.949336774867427e-05",
         "4.527619653983683e-05",
         "0.000100325678732",
         "9.538455114474488e-05",
         "7.537860054099635e-05",
         "2.9463547069563884e-05",
         "6.080031857797104e-05",
         "4.5395063949882006e-05",
         "4.4569695155894165e-05",
         "5.245660713395009e-05",
         "1.5652479324916894e-05",
         "7.714659508612463e-05",
         "3.5217246929155656e-05",
         "1.5633608070234062e-05",
         "7.44550146940786e-05",
         "3.522004556704393e-05",
         "0.0",
         "0.0",
         "0.0",
         "0.0",
         "0.0",
         "0.0",
         "0.0",
         "2.382761839276812e-05",
         "2.3065629552647057e-05",
         "4.437323100576671e-05",
         "1.757669284057813e-05",
         "3.202124538696549e-05",
         "4.572536930905007e-05",
         "4.745200403932543e-05",
         "4.864506023051843e-05",
         "4.481032167218656e-05",
         "4.320160302228107e-05",
         "2.407250978588764e-05",
         "4.905625105715284e-05",
         "4.085172164222298e-05",
         "3.6708357992585705e-05",
         "3.2526543798688134e-05",
         "1.1747970331668632e-05",
         "2.1318474306259404e-05",
         "1.5649281387754635e-05",
         "1.61231942970878e-05",
         "7.021503035846205e-05",
         "3.766835538858014e-05",
         "3.774850261957627e-05",
         "1.07289065695358e-05",
         "1.5321310610756297e-05",
         "3.1179690097077675e-05",
         "3.734836255221176e-05",
         "3.1277715512260246e-05",
         "1.377711142198446e-05",
         "2.0199381145423207e-05",
         "2.6543039913238912e-05",
         "2.666656927136947e-05",
         "4.76423344590339e-05",
         "2.666656927136773e-05",
         "5.718057960127983e-05",
         "5.108180877036808e-05",
         "5.1103337852020925e-05",
         "5.954318372328182e-05",
         "6.777855240832492e-05",
         "6.709094946533503e-05",
         "6.709839065453457e-05",
         "5.76368068150486e-05",
         "5.76158077838021e-05",
         "6.31165251826736e-05",
         "5.614396605919426e-05",
         "4.805286304153042e-05",
         "3.4820365443552666e-05",
         "1.7451435264530073e-05",
         "2.1488276755329057e-05",
         "1.6369737200439303e-05",
         "1.913195297004796e-05",
         "2.350205258383476e-05",
         "6.277138688468432e-05",
         "8.815192274649539e-05",
         "1.977099315830723e-05",
         "2.038623600231041e-05",
         "1.046063373712344e-05",
         "2.013298282138248e-05",
         "7.795479276331407e-06",
         "7.774007123610184e-06",
         "1.3344497723288568e-05",
         "1.0464445562904457e-05",
         "1.4707578714486144e-05",
         "9.407852299443654e-05",
         "5.335087762010064e-05",
         "2.3568739361797564e-05",
         "6.28932035741693e-05",
         "6.464413281156837e-05",
         "1.8202519411532163e-05",
         "3.110380722034546e-05",
         "4.2341993422906e-05",
         "6.133922705301971e-05",
         "4.837626329107659e-05",
         "2.3501998748363083e-05",
         "4.949386490528743e-05",
         "6.0017738951182245e-05",
         "2.633373767824479e-05",
         "5.993266632417331e-05",
         "7.297459610821136e-05",
         "6.439496444169204e-05",
         "1.932471624776881e-05",
         "2.897349729157321e-05",
         "4.412213942447951e-05",
         "3.729173730657176e-05",
         "2.989588235257669e-05",
         "8.63913942554443e-06",
         "2.2692656950641828e-05",
         "2.35708555808828e-05",
         "4.144535099599202e-05",
         "4.0116084678283896e-05",
         "4.462236118113645e-05",
         "4.922075222452832e-05",
         "3.55227769776746e-05",
         "1.7843752921732365e-05",
         "1.7952860756133315e-05",
         "5.334145679142385e-05",
         "3.628796141884273e-05",
         "3.525582565659505e-05",
         "2.652605809071729e-05",
         "4.484351702006015e-05",
         "4.041971147220177e-05",
         "3.4828308372016764e-05",
         "3.473083496515969e-05",
         "8.81187975737606e-06",
         "3.600696551120906e-05",
         "1.5256662878783932e-05",
         "8.622655233468931e-06",
         "3.615370010719415e-05",
         "2.4917787620381843e-05",
         "0.0",
         "0.0",
         "0.0",
         "0.0",
         "0.0",
         "0.0",
         "0.0",
         "1.440496906860182e-05",
         "2.1737451918025868e-06",
         "2.409189241286795e-06",
         "9.001750414329868e-06",
         "1.167595262647251e-05",
         "1.446610599321592e-05",
         "4.678615154622701e-06",
         "3.6602634782912703e-06",
         "5.610372703802576e-06",
         "6.78630790033408e-06",
         "9.084252296597591e-06",
         "1.060486914635124e-05",
         "1.0336568135802024e-05",
         "1.0034417717200896e-05",
         "9.42970372171494e-06",
         "3.0568676916418232e-06",
         "3.0880529840520907e-06",
         "8.486455516452235e-07",
         "7.070643453569152e-07",
         "1.507874492711692e-05",
         "1.5257339028697768e-05",
         "1.2928049639600748e-05",
         "1.120196647932275e-05",
         "1.0257225054261746e-05",
         "1.026478424727157e-05",
         "8.101200707016703e-06",
         "8.21097821962968e-06",
         "5.938557557881303e-07",
         "4.937201051355574e-06",
         "1.3508537087526765e-06",
         "1.3059253869496332e-06",
         "9.407852299443663e-05",
         "1.8518230040294893e-06",
         "8.953373964457295e-05",
         "3.182358935164588e-06",
         "3.305631307890076e-06",
         "3.887227460398768e-06",
         "4.919702025484333e-06",
         "5.663836609366138e-06",
         "5.874845502167525e-06",
         "8.098866074819514e-05",
         "5.9010737746127175e-06",
         "6.394060581820437e-06",
         "7.350177888998171e-06",
         "7.284502755800512e-06",
         "8.646590302032256e-06",
         "9.157212909881436e-06",
         "7.244949328451353e-05",
         "9.649200257848094e-06",
         "1.0476553604151385e-05",
         "1.0541342234520431e-05",
         "7.017320132082349e-05",
         "6.940204960054902e-05",
         "1.1132286780362209e-06",
         "2.1434420540541923e-06",
         "5.451563123660946e-07",
         "8.697144572367497e-07",
         "4.815970197785419e-06",
         "5.205531643058666e-06",
         "4.7332088503792213e-07",
         "5.495556436862088e-07",
         "3.560655083559297e-06",
         "8.205926078113171e-05",
         "8.148139730558763e-05",
         "8.381034699884933e-05",
         "8.908609078508452e-05",
         "9.079541823196386e-05",
         "2.0867359201220785e-05",
         "1.9918988673649305e-05",
         "1.8436629694206647e-05",
         "1.4461598146725627e-05",
         "1.38613236052975e-05",
         "1.957315064418132e-05",
         "1.5313194780150648e-05",
         "1.2319210519186503e-05",
         "1.521501528340438e-05",
         "7.71965923461492e-06",
         "3.646058716982609e-06",
         "5.305771745524925e-06",
         "1.122419831203628e-05",
         "1.0121657910975352e-05",
         "2.780266485428312e-06",
         "3.2311466881160505e-06",
         "3.6269196914676574e-06",
         "3.891640755457516e-06",
         "2.550848777404041e-06",
         "1.5854018452639642e-06",
         "8.64316399565258e-06",
         "6.55820243795644e-06",
         "8.227679844522665e-06",
         "3.813382797217832e-06",
         "4.1751999529764106e-06",
         "3.1349434271842486e-06",
         "9.120835559277712e-07",
         "5.989591383597989e-06",
         "2.307622713437205e-06",
         "1.7265381557323895e-06",
         "1.229789263354486e-05",
         "3.3039460130859745e-06",
         "3.917551463132212e-06",
         "4.541210557795394e-06",
         "1.490379359569624e-05",
         "1.7652950402682497e-05",
         "5.192562031891886e-06",
         "8.630968329365399e-06",
         "6.304615665121436e-06",
         "5.497961444915738e-06",
         "8.705673644376628e-06"
        ]
       ],
       "shape": {
        "columns": 345,
        "rows": 5
       }
      },
      "text/html": [
       "<div>\n",
       "<style scoped>\n",
       "    .dataframe tbody tr th:only-of-type {\n",
       "        vertical-align: middle;\n",
       "    }\n",
       "\n",
       "    .dataframe tbody tr th {\n",
       "        vertical-align: top;\n",
       "    }\n",
       "\n",
       "    .dataframe thead th {\n",
       "        text-align: right;\n",
       "    }\n",
       "</style>\n",
       "<table border=\"1\" class=\"dataframe\">\n",
       "  <thead>\n",
       "    <tr style=\"text-align: right;\">\n",
       "      <th></th>\n",
       "      <th>0</th>\n",
       "      <th>1</th>\n",
       "      <th>2</th>\n",
       "      <th>3</th>\n",
       "      <th>4</th>\n",
       "      <th>5</th>\n",
       "      <th>6</th>\n",
       "      <th>7</th>\n",
       "      <th>8</th>\n",
       "      <th>9</th>\n",
       "      <th>...</th>\n",
       "      <th>335</th>\n",
       "      <th>336</th>\n",
       "      <th>337</th>\n",
       "      <th>338</th>\n",
       "      <th>339</th>\n",
       "      <th>340</th>\n",
       "      <th>341</th>\n",
       "      <th>342</th>\n",
       "      <th>343</th>\n",
       "      <th>344</th>\n",
       "    </tr>\n",
       "  </thead>\n",
       "  <tbody>\n",
       "    <tr>\n",
       "      <th>0</th>\n",
       "      <td>0.0</td>\n",
       "      <td>0.0</td>\n",
       "      <td>0.0</td>\n",
       "      <td>0.0</td>\n",
       "      <td>0.0</td>\n",
       "      <td>0.0</td>\n",
       "      <td>0.0</td>\n",
       "      <td>0.000507</td>\n",
       "      <td>0.000314</td>\n",
       "      <td>0.000416</td>\n",
       "      <td>...</td>\n",
       "      <td>2.779712e-05</td>\n",
       "      <td>2.801599e-05</td>\n",
       "      <td>2.912481e-05</td>\n",
       "      <td>0.000118</td>\n",
       "      <td>0.000145</td>\n",
       "      <td>3.702822e-05</td>\n",
       "      <td>7.157900e-05</td>\n",
       "      <td>0.000035</td>\n",
       "      <td>4.396142e-05</td>\n",
       "      <td>7.178028e-05</td>\n",
       "    </tr>\n",
       "    <tr>\n",
       "      <th>1</th>\n",
       "      <td>0.0</td>\n",
       "      <td>0.0</td>\n",
       "      <td>0.0</td>\n",
       "      <td>0.0</td>\n",
       "      <td>0.0</td>\n",
       "      <td>0.0</td>\n",
       "      <td>0.0</td>\n",
       "      <td>0.001601</td>\n",
       "      <td>0.001099</td>\n",
       "      <td>0.001397</td>\n",
       "      <td>...</td>\n",
       "      <td>9.221750e-05</td>\n",
       "      <td>9.276431e-05</td>\n",
       "      <td>9.127350e-05</td>\n",
       "      <td>0.000324</td>\n",
       "      <td>0.000446</td>\n",
       "      <td>1.316673e-04</td>\n",
       "      <td>2.385007e-04</td>\n",
       "      <td>0.000100</td>\n",
       "      <td>1.386772e-04</td>\n",
       "      <td>2.413683e-04</td>\n",
       "    </tr>\n",
       "    <tr>\n",
       "      <th>2</th>\n",
       "      <td>0.0</td>\n",
       "      <td>0.0</td>\n",
       "      <td>0.0</td>\n",
       "      <td>0.0</td>\n",
       "      <td>0.0</td>\n",
       "      <td>0.0</td>\n",
       "      <td>0.0</td>\n",
       "      <td>0.000006</td>\n",
       "      <td>0.000002</td>\n",
       "      <td>0.000002</td>\n",
       "      <td>...</td>\n",
       "      <td>4.610898e-07</td>\n",
       "      <td>6.497431e-07</td>\n",
       "      <td>7.605435e-07</td>\n",
       "      <td>0.000002</td>\n",
       "      <td>0.000002</td>\n",
       "      <td>8.503349e-07</td>\n",
       "      <td>4.675817e-07</td>\n",
       "      <td>0.000001</td>\n",
       "      <td>3.849757e-08</td>\n",
       "      <td>1.422550e-07</td>\n",
       "    </tr>\n",
       "    <tr>\n",
       "      <th>3</th>\n",
       "      <td>0.0</td>\n",
       "      <td>0.0</td>\n",
       "      <td>0.0</td>\n",
       "      <td>0.0</td>\n",
       "      <td>0.0</td>\n",
       "      <td>0.0</td>\n",
       "      <td>0.0</td>\n",
       "      <td>0.000762</td>\n",
       "      <td>0.000499</td>\n",
       "      <td>0.000654</td>\n",
       "      <td>...</td>\n",
       "      <td>4.384855e-05</td>\n",
       "      <td>4.402273e-05</td>\n",
       "      <td>4.427402e-05</td>\n",
       "      <td>0.000169</td>\n",
       "      <td>0.000225</td>\n",
       "      <td>5.882268e-05</td>\n",
       "      <td>1.120361e-04</td>\n",
       "      <td>0.000054</td>\n",
       "      <td>6.826226e-05</td>\n",
       "      <td>1.133653e-04</td>\n",
       "    </tr>\n",
       "    <tr>\n",
       "      <th>4</th>\n",
       "      <td>0.0</td>\n",
       "      <td>0.0</td>\n",
       "      <td>0.0</td>\n",
       "      <td>0.0</td>\n",
       "      <td>0.0</td>\n",
       "      <td>0.0</td>\n",
       "      <td>0.0</td>\n",
       "      <td>0.000062</td>\n",
       "      <td>0.000036</td>\n",
       "      <td>0.000049</td>\n",
       "      <td>...</td>\n",
       "      <td>3.303946e-06</td>\n",
       "      <td>3.917551e-06</td>\n",
       "      <td>4.541211e-06</td>\n",
       "      <td>0.000015</td>\n",
       "      <td>0.000018</td>\n",
       "      <td>5.192562e-06</td>\n",
       "      <td>8.630968e-06</td>\n",
       "      <td>0.000006</td>\n",
       "      <td>5.497961e-06</td>\n",
       "      <td>8.705674e-06</td>\n",
       "    </tr>\n",
       "  </tbody>\n",
       "</table>\n",
       "<p>5 rows × 345 columns</p>\n",
       "</div>"
      ],
      "text/plain": [
       "     0    1    2    3    4    5    6         7         8         9  ...  \\\n",
       "0  0.0  0.0  0.0  0.0  0.0  0.0  0.0  0.000507  0.000314  0.000416  ...   \n",
       "1  0.0  0.0  0.0  0.0  0.0  0.0  0.0  0.001601  0.001099  0.001397  ...   \n",
       "2  0.0  0.0  0.0  0.0  0.0  0.0  0.0  0.000006  0.000002  0.000002  ...   \n",
       "3  0.0  0.0  0.0  0.0  0.0  0.0  0.0  0.000762  0.000499  0.000654  ...   \n",
       "4  0.0  0.0  0.0  0.0  0.0  0.0  0.0  0.000062  0.000036  0.000049  ...   \n",
       "\n",
       "            335           336           337       338       339           340  \\\n",
       "0  2.779712e-05  2.801599e-05  2.912481e-05  0.000118  0.000145  3.702822e-05   \n",
       "1  9.221750e-05  9.276431e-05  9.127350e-05  0.000324  0.000446  1.316673e-04   \n",
       "2  4.610898e-07  6.497431e-07  7.605435e-07  0.000002  0.000002  8.503349e-07   \n",
       "3  4.384855e-05  4.402273e-05  4.427402e-05  0.000169  0.000225  5.882268e-05   \n",
       "4  3.303946e-06  3.917551e-06  4.541211e-06  0.000015  0.000018  5.192562e-06   \n",
       "\n",
       "            341       342           343           344  \n",
       "0  7.157900e-05  0.000035  4.396142e-05  7.178028e-05  \n",
       "1  2.385007e-04  0.000100  1.386772e-04  2.413683e-04  \n",
       "2  4.675817e-07  0.000001  3.849757e-08  1.422550e-07  \n",
       "3  1.120361e-04  0.000054  6.826226e-05  1.133653e-04  \n",
       "4  8.630968e-06  0.000006  5.497961e-06  8.705674e-06  \n",
       "\n",
       "[5 rows x 345 columns]"
      ]
     },
     "metadata": {},
     "output_type": "display_data"
    }
   ],
   "source": [
    "# Path to the .csv file\n",
    "path = r'dataset\\combined_dataset.csv'\n",
    "X = pd.read_csv(path)\n",
    "# first 5 rows of the data\n",
    "X.head()"
   ]
  },
  {
   "cell_type": "code",
   "execution_count": null,
   "id": "45eb36a4",
   "metadata": {},
   "outputs": [
    {
     "name": "stdout",
     "output_type": "stream",
     "text": [
      "Number of datapoints : 5000\n"
     ]
    }
   ],
   "source": [
    "print('Number of datapoints :', X.shape[0])"
   ]
  },
  {
   "cell_type": "code",
   "execution_count": null,
   "id": "d8808baf",
   "metadata": {},
   "outputs": [
    {
     "data": {
      "application/vnd.microsoft.datawrangler.viewer.v0+json": {
       "columns": [
        {
         "name": "index",
         "rawType": "int64",
         "type": "integer"
        },
        {
         "name": "ZONE 1",
         "rawType": "float64",
         "type": "float"
        },
        {
         "name": "ZONE 2",
         "rawType": "float64",
         "type": "float"
        },
        {
         "name": "ZONE 3",
         "rawType": "float64",
         "type": "float"
        }
       ],
       "ref": "aab01d75-4726-42cf-b544-de656338f443",
       "rows": [
        [
         "0",
         "0.35",
         "0.7000000000000001",
         "0.55"
        ],
        [
         "1",
         "0.8",
         "0.6000000000000001",
         "0.5"
        ],
        [
         "2",
         "0.0",
         "0.15",
         "0.1"
        ],
        [
         "3",
         "0.5",
         "0.2",
         "0.55"
        ],
        [
         "4",
         "0.05",
         "0.1",
         "0.4"
        ]
       ],
       "shape": {
        "columns": 3,
        "rows": 5
       }
      },
      "text/html": [
       "<div>\n",
       "<style scoped>\n",
       "    .dataframe tbody tr th:only-of-type {\n",
       "        vertical-align: middle;\n",
       "    }\n",
       "\n",
       "    .dataframe tbody tr th {\n",
       "        vertical-align: top;\n",
       "    }\n",
       "\n",
       "    .dataframe thead th {\n",
       "        text-align: right;\n",
       "    }\n",
       "</style>\n",
       "<table border=\"1\" class=\"dataframe\">\n",
       "  <thead>\n",
       "    <tr style=\"text-align: right;\">\n",
       "      <th></th>\n",
       "      <th>ZONE 1</th>\n",
       "      <th>ZONE 2</th>\n",
       "      <th>ZONE 3</th>\n",
       "    </tr>\n",
       "  </thead>\n",
       "  <tbody>\n",
       "    <tr>\n",
       "      <th>0</th>\n",
       "      <td>0.35</td>\n",
       "      <td>0.70</td>\n",
       "      <td>0.55</td>\n",
       "    </tr>\n",
       "    <tr>\n",
       "      <th>1</th>\n",
       "      <td>0.80</td>\n",
       "      <td>0.60</td>\n",
       "      <td>0.50</td>\n",
       "    </tr>\n",
       "    <tr>\n",
       "      <th>2</th>\n",
       "      <td>0.00</td>\n",
       "      <td>0.15</td>\n",
       "      <td>0.10</td>\n",
       "    </tr>\n",
       "    <tr>\n",
       "      <th>3</th>\n",
       "      <td>0.50</td>\n",
       "      <td>0.20</td>\n",
       "      <td>0.55</td>\n",
       "    </tr>\n",
       "    <tr>\n",
       "      <th>4</th>\n",
       "      <td>0.05</td>\n",
       "      <td>0.10</td>\n",
       "      <td>0.40</td>\n",
       "    </tr>\n",
       "  </tbody>\n",
       "</table>\n",
       "</div>"
      ],
      "text/plain": [
       "   ZONE 1  ZONE 2  ZONE 3\n",
       "0    0.35    0.70    0.55\n",
       "1    0.80    0.60    0.50\n",
       "2    0.00    0.15    0.10\n",
       "3    0.50    0.20    0.55\n",
       "4    0.05    0.10    0.40"
      ]
     },
     "metadata": {},
     "output_type": "display_data"
    }
   ],
   "source": [
    "# Path to the .csv file\n",
    "path = r'dataset\\dataset_info.csv'\n",
    "y = pd.read_csv(path)\n",
    "# first 5 rows of the data\n",
    "y.head()"
   ]
  },
  {
   "cell_type": "markdown",
   "id": "b14febe3",
   "metadata": {},
   "source": [
    "Preprocessing"
   ]
  },
  {
   "cell_type": "code",
   "execution_count": null,
   "id": "667d284f",
   "metadata": {},
   "outputs": [
    {
     "name": "stdout",
     "output_type": "stream",
     "text": [
      "shape of input : (5000, 345)\n",
      "shape of output : (5000, 3)\n"
     ]
    }
   ],
   "source": [
    "print('shape of input :', X.shape)\n",
    "print('shape of output :', y.shape)"
   ]
  },
  {
   "cell_type": "code",
   "execution_count": null,
   "id": "d499526c",
   "metadata": {},
   "outputs": [
    {
     "name": "stdout",
     "output_type": "stream",
     "text": [
      "shape of train set : (4000, 345)\n",
      "shape of test set : (1000, 345)\n"
     ]
    }
   ],
   "source": [
    "# Split the data into train and test sets\n",
    "X_train, X_test, y_train, y_test = train_test_split(X, y, test_size=0.2, random_state=42)\n",
    "print('shape of train set :', X_train.shape)\n",
    "print('shape of test set :', X_test.shape)"
   ]
  },
  {
   "cell_type": "code",
   "execution_count": null,
   "id": "59842d84",
   "metadata": {},
   "outputs": [],
   "source": [
    "# Normalize the features and targets\n",
    "scaler_X = MinMaxScaler()\n",
    "X_train_scaled = scaler_X.fit_transform(X_train)\n",
    "X_test_scaled = scaler_X.transform(X_test)"
   ]
  },
  {
   "cell_type": "code",
   "execution_count": null,
   "id": "dcf01089",
   "metadata": {},
   "outputs": [
    {
     "data": {
      "text/html": [
       "<pre style=\"white-space:pre;overflow-x:auto;line-height:normal;font-family:Menlo,'DejaVu Sans Mono',consolas,'Courier New',monospace\"><span style=\"font-weight: bold\">Model: \"functional\"</span>\n",
       "</pre>\n"
      ],
      "text/plain": [
       "\u001b[1mModel: \"functional\"\u001b[0m\n"
      ]
     },
     "metadata": {},
     "output_type": "display_data"
    },
    {
     "data": {
      "text/html": [
       "<pre style=\"white-space:pre;overflow-x:auto;line-height:normal;font-family:Menlo,'DejaVu Sans Mono',consolas,'Courier New',monospace\">┏━━━━━━━━━━━━━━━━━━━━━━━━━━━━━━━━━┳━━━━━━━━━━━━━━━━━━━━━━━━┳━━━━━━━━━━━━━━━┓\n",
       "┃<span style=\"font-weight: bold\"> Layer (type)                    </span>┃<span style=\"font-weight: bold\"> Output Shape           </span>┃<span style=\"font-weight: bold\">       Param # </span>┃\n",
       "┡━━━━━━━━━━━━━━━━━━━━━━━━━━━━━━━━━╇━━━━━━━━━━━━━━━━━━━━━━━━╇━━━━━━━━━━━━━━━┩\n",
       "│ input_layer (<span style=\"color: #0087ff; text-decoration-color: #0087ff\">InputLayer</span>)        │ (<span style=\"color: #00d7ff; text-decoration-color: #00d7ff\">None</span>, <span style=\"color: #00af00; text-decoration-color: #00af00\">345</span>)            │             <span style=\"color: #00af00; text-decoration-color: #00af00\">0</span> │\n",
       "├─────────────────────────────────┼────────────────────────┼───────────────┤\n",
       "│ dense (<span style=\"color: #0087ff; text-decoration-color: #0087ff\">Dense</span>)                   │ (<span style=\"color: #00d7ff; text-decoration-color: #00d7ff\">None</span>, <span style=\"color: #00af00; text-decoration-color: #00af00\">300</span>)            │       <span style=\"color: #00af00; text-decoration-color: #00af00\">103,800</span> │\n",
       "├─────────────────────────────────┼────────────────────────┼───────────────┤\n",
       "│ dense_1 (<span style=\"color: #0087ff; text-decoration-color: #0087ff\">Dense</span>)                 │ (<span style=\"color: #00d7ff; text-decoration-color: #00d7ff\">None</span>, <span style=\"color: #00af00; text-decoration-color: #00af00\">200</span>)            │        <span style=\"color: #00af00; text-decoration-color: #00af00\">60,200</span> │\n",
       "├─────────────────────────────────┼────────────────────────┼───────────────┤\n",
       "│ dense_2 (<span style=\"color: #0087ff; text-decoration-color: #0087ff\">Dense</span>)                 │ (<span style=\"color: #00d7ff; text-decoration-color: #00d7ff\">None</span>, <span style=\"color: #00af00; text-decoration-color: #00af00\">100</span>)            │        <span style=\"color: #00af00; text-decoration-color: #00af00\">20,100</span> │\n",
       "├─────────────────────────────────┼────────────────────────┼───────────────┤\n",
       "│ output (<span style=\"color: #0087ff; text-decoration-color: #0087ff\">Dense</span>)                  │ (<span style=\"color: #00d7ff; text-decoration-color: #00d7ff\">None</span>, <span style=\"color: #00af00; text-decoration-color: #00af00\">3</span>)              │           <span style=\"color: #00af00; text-decoration-color: #00af00\">303</span> │\n",
       "└─────────────────────────────────┴────────────────────────┴───────────────┘\n",
       "</pre>\n"
      ],
      "text/plain": [
       "┏━━━━━━━━━━━━━━━━━━━━━━━━━━━━━━━━━┳━━━━━━━━━━━━━━━━━━━━━━━━┳━━━━━━━━━━━━━━━┓\n",
       "┃\u001b[1m \u001b[0m\u001b[1mLayer (type)                   \u001b[0m\u001b[1m \u001b[0m┃\u001b[1m \u001b[0m\u001b[1mOutput Shape          \u001b[0m\u001b[1m \u001b[0m┃\u001b[1m \u001b[0m\u001b[1m      Param #\u001b[0m\u001b[1m \u001b[0m┃\n",
       "┡━━━━━━━━━━━━━━━━━━━━━━━━━━━━━━━━━╇━━━━━━━━━━━━━━━━━━━━━━━━╇━━━━━━━━━━━━━━━┩\n",
       "│ input_layer (\u001b[38;5;33mInputLayer\u001b[0m)        │ (\u001b[38;5;45mNone\u001b[0m, \u001b[38;5;34m345\u001b[0m)            │             \u001b[38;5;34m0\u001b[0m │\n",
       "├─────────────────────────────────┼────────────────────────┼───────────────┤\n",
       "│ dense (\u001b[38;5;33mDense\u001b[0m)                   │ (\u001b[38;5;45mNone\u001b[0m, \u001b[38;5;34m300\u001b[0m)            │       \u001b[38;5;34m103,800\u001b[0m │\n",
       "├─────────────────────────────────┼────────────────────────┼───────────────┤\n",
       "│ dense_1 (\u001b[38;5;33mDense\u001b[0m)                 │ (\u001b[38;5;45mNone\u001b[0m, \u001b[38;5;34m200\u001b[0m)            │        \u001b[38;5;34m60,200\u001b[0m │\n",
       "├─────────────────────────────────┼────────────────────────┼───────────────┤\n",
       "│ dense_2 (\u001b[38;5;33mDense\u001b[0m)                 │ (\u001b[38;5;45mNone\u001b[0m, \u001b[38;5;34m100\u001b[0m)            │        \u001b[38;5;34m20,100\u001b[0m │\n",
       "├─────────────────────────────────┼────────────────────────┼───────────────┤\n",
       "│ output (\u001b[38;5;33mDense\u001b[0m)                  │ (\u001b[38;5;45mNone\u001b[0m, \u001b[38;5;34m3\u001b[0m)              │           \u001b[38;5;34m303\u001b[0m │\n",
       "└─────────────────────────────────┴────────────────────────┴───────────────┘\n"
      ]
     },
     "metadata": {},
     "output_type": "display_data"
    },
    {
     "data": {
      "text/html": [
       "<pre style=\"white-space:pre;overflow-x:auto;line-height:normal;font-family:Menlo,'DejaVu Sans Mono',consolas,'Courier New',monospace\"><span style=\"font-weight: bold\"> Total params: </span><span style=\"color: #00af00; text-decoration-color: #00af00\">184,403</span> (720.32 KB)\n",
       "</pre>\n"
      ],
      "text/plain": [
       "\u001b[1m Total params: \u001b[0m\u001b[38;5;34m184,403\u001b[0m (720.32 KB)\n"
      ]
     },
     "metadata": {},
     "output_type": "display_data"
    },
    {
     "data": {
      "text/html": [
       "<pre style=\"white-space:pre;overflow-x:auto;line-height:normal;font-family:Menlo,'DejaVu Sans Mono',consolas,'Courier New',monospace\"><span style=\"font-weight: bold\"> Trainable params: </span><span style=\"color: #00af00; text-decoration-color: #00af00\">184,403</span> (720.32 KB)\n",
       "</pre>\n"
      ],
      "text/plain": [
       "\u001b[1m Trainable params: \u001b[0m\u001b[38;5;34m184,403\u001b[0m (720.32 KB)\n"
      ]
     },
     "metadata": {},
     "output_type": "display_data"
    },
    {
     "data": {
      "text/html": [
       "<pre style=\"white-space:pre;overflow-x:auto;line-height:normal;font-family:Menlo,'DejaVu Sans Mono',consolas,'Courier New',monospace\"><span style=\"font-weight: bold\"> Non-trainable params: </span><span style=\"color: #00af00; text-decoration-color: #00af00\">0</span> (0.00 B)\n",
       "</pre>\n"
      ],
      "text/plain": [
       "\u001b[1m Non-trainable params: \u001b[0m\u001b[38;5;34m0\u001b[0m (0.00 B)\n"
      ]
     },
     "metadata": {},
     "output_type": "display_data"
    }
   ],
   "source": [
    "# Define the input layer\n",
    "input_layer = Input(shape=(X.shape[1],))\n",
    "\n",
    "# Define the dense layers\n",
    "dense_1 = Dense(300, activation='relu')(input_layer)\n",
    "dense_2 = Dense(200, activation='relu')(dense_1)\n",
    "dense_3 = Dense(100, activation='relu')(dense_2)\n",
    "\n",
    "# Define the output layer with 3 outputs between 0 and 1 (using sigmoid)\n",
    "output = Dense(3, activation='sigmoid', name='output')(dense_3)\n",
    "\n",
    "# Create the model\n",
    "model = Model(inputs=input_layer, outputs=output)\n",
    "\n",
    "# Print the model summary\n",
    "model.summary()\n"
   ]
  },
  {
   "cell_type": "code",
   "execution_count": null,
   "id": "08b9ec86",
   "metadata": {},
   "outputs": [
    {
     "name": "stdout",
     "output_type": "stream",
     "text": [
      "Epoch 1/100\n",
      "\u001b[1m100/100\u001b[0m \u001b[32m━━━━━━━━━━━━━━━━━━━━\u001b[0m\u001b[37m\u001b[0m \u001b[1m1s\u001b[0m 2ms/step - accuracy: 0.5936 - loss: 0.0527 - val_accuracy: 0.7175 - val_loss: 0.0298\n",
      "Epoch 2/100\n",
      "\u001b[1m100/100\u001b[0m \u001b[32m━━━━━━━━━━━━━━━━━━━━\u001b[0m\u001b[37m\u001b[0m \u001b[1m0s\u001b[0m 1ms/step - accuracy: 0.7318 - loss: 0.0304 - val_accuracy: 0.7163 - val_loss: 0.0271\n",
      "Epoch 3/100\n",
      "\u001b[1m100/100\u001b[0m \u001b[32m━━━━━━━━━━━━━━━━━━━━\u001b[0m\u001b[37m\u001b[0m \u001b[1m0s\u001b[0m 1ms/step - accuracy: 0.7388 - loss: 0.0265 - val_accuracy: 0.7250 - val_loss: 0.0261\n",
      "Epoch 4/100\n",
      "\u001b[1m100/100\u001b[0m \u001b[32m━━━━━━━━━━━━━━━━━━━━\u001b[0m\u001b[37m\u001b[0m \u001b[1m0s\u001b[0m 1ms/step - accuracy: 0.7433 - loss: 0.0245 - val_accuracy: 0.7287 - val_loss: 0.0232\n",
      "Epoch 5/100\n",
      "\u001b[1m100/100\u001b[0m \u001b[32m━━━━━━━━━━━━━━━━━━━━\u001b[0m\u001b[37m\u001b[0m \u001b[1m0s\u001b[0m 1ms/step - accuracy: 0.7495 - loss: 0.0241 - val_accuracy: 0.6775 - val_loss: 0.0260\n",
      "Epoch 6/100\n",
      "\u001b[1m100/100\u001b[0m \u001b[32m━━━━━━━━━━━━━━━━━━━━\u001b[0m\u001b[37m\u001b[0m \u001b[1m0s\u001b[0m 1ms/step - accuracy: 0.7409 - loss: 0.0233 - val_accuracy: 0.7500 - val_loss: 0.0216\n",
      "Epoch 7/100\n",
      "\u001b[1m100/100\u001b[0m \u001b[32m━━━━━━━━━━━━━━━━━━━━\u001b[0m\u001b[37m\u001b[0m \u001b[1m0s\u001b[0m 1ms/step - accuracy: 0.7664 - loss: 0.0219 - val_accuracy: 0.7638 - val_loss: 0.0191\n",
      "Epoch 8/100\n",
      "\u001b[1m100/100\u001b[0m \u001b[32m━━━━━━━━━━━━━━━━━━━━\u001b[0m\u001b[37m\u001b[0m \u001b[1m0s\u001b[0m 1ms/step - accuracy: 0.8010 - loss: 0.0182 - val_accuracy: 0.7475 - val_loss: 0.0304\n",
      "Epoch 9/100\n",
      "\u001b[1m100/100\u001b[0m \u001b[32m━━━━━━━━━━━━━━━━━━━━\u001b[0m\u001b[37m\u001b[0m \u001b[1m0s\u001b[0m 1ms/step - accuracy: 0.8069 - loss: 0.0188 - val_accuracy: 0.7900 - val_loss: 0.0130\n",
      "Epoch 10/100\n",
      "\u001b[1m100/100\u001b[0m \u001b[32m━━━━━━━━━━━━━━━━━━━━\u001b[0m\u001b[37m\u001b[0m \u001b[1m0s\u001b[0m 1ms/step - accuracy: 0.8249 - loss: 0.0140 - val_accuracy: 0.8587 - val_loss: 0.0112\n",
      "Epoch 11/100\n",
      "\u001b[1m100/100\u001b[0m \u001b[32m━━━━━━━━━━━━━━━━━━━━\u001b[0m\u001b[37m\u001b[0m \u001b[1m0s\u001b[0m 1ms/step - accuracy: 0.8618 - loss: 0.0104 - val_accuracy: 0.8350 - val_loss: 0.0138\n",
      "Epoch 12/100\n",
      "\u001b[1m100/100\u001b[0m \u001b[32m━━━━━━━━━━━━━━━━━━━━\u001b[0m\u001b[37m\u001b[0m \u001b[1m0s\u001b[0m 1ms/step - accuracy: 0.8804 - loss: 0.0082 - val_accuracy: 0.9312 - val_loss: 0.0040\n",
      "Epoch 13/100\n",
      "\u001b[1m100/100\u001b[0m \u001b[32m━━━━━━━━━━━━━━━━━━━━\u001b[0m\u001b[37m\u001b[0m \u001b[1m0s\u001b[0m 1ms/step - accuracy: 0.8839 - loss: 0.0057 - val_accuracy: 0.7925 - val_loss: 0.0136\n",
      "Epoch 14/100\n",
      "\u001b[1m100/100\u001b[0m \u001b[32m━━━━━━━━━━━━━━━━━━━━\u001b[0m\u001b[37m\u001b[0m \u001b[1m0s\u001b[0m 1ms/step - accuracy: 0.8797 - loss: 0.0076 - val_accuracy: 0.7337 - val_loss: 0.0241\n",
      "Epoch 15/100\n",
      "\u001b[1m100/100\u001b[0m \u001b[32m━━━━━━━━━━━━━━━━━━━━\u001b[0m\u001b[37m\u001b[0m \u001b[1m0s\u001b[0m 1ms/step - accuracy: 0.8741 - loss: 0.0079 - val_accuracy: 0.9375 - val_loss: 0.0025\n",
      "Epoch 16/100\n",
      "\u001b[1m100/100\u001b[0m \u001b[32m━━━━━━━━━━━━━━━━━━━━\u001b[0m\u001b[37m\u001b[0m \u001b[1m0s\u001b[0m 1ms/step - accuracy: 0.9012 - loss: 0.0059 - val_accuracy: 0.8988 - val_loss: 0.0026\n",
      "Epoch 17/100\n",
      "\u001b[1m100/100\u001b[0m \u001b[32m━━━━━━━━━━━━━━━━━━━━\u001b[0m\u001b[37m\u001b[0m \u001b[1m0s\u001b[0m 1ms/step - accuracy: 0.8863 - loss: 0.0066 - val_accuracy: 0.9350 - val_loss: 0.0018\n",
      "Epoch 18/100\n",
      "\u001b[1m100/100\u001b[0m \u001b[32m━━━━━━━━━━━━━━━━━━━━\u001b[0m\u001b[37m\u001b[0m \u001b[1m0s\u001b[0m 1ms/step - accuracy: 0.9159 - loss: 0.0037 - val_accuracy: 0.9400 - val_loss: 0.0026\n",
      "Epoch 19/100\n",
      "\u001b[1m100/100\u001b[0m \u001b[32m━━━━━━━━━━━━━━━━━━━━\u001b[0m\u001b[37m\u001b[0m \u001b[1m0s\u001b[0m 1ms/step - accuracy: 0.8660 - loss: 0.0092 - val_accuracy: 0.8138 - val_loss: 0.0125\n",
      "Epoch 20/100\n",
      "\u001b[1m100/100\u001b[0m \u001b[32m━━━━━━━━━━━━━━━━━━━━\u001b[0m\u001b[37m\u001b[0m \u001b[1m0s\u001b[0m 1ms/step - accuracy: 0.9191 - loss: 0.0043 - val_accuracy: 0.9425 - val_loss: 0.0018\n",
      "Epoch 21/100\n",
      "\u001b[1m100/100\u001b[0m \u001b[32m━━━━━━━━━━━━━━━━━━━━\u001b[0m\u001b[37m\u001b[0m \u001b[1m0s\u001b[0m 1ms/step - accuracy: 0.9286 - loss: 0.0028 - val_accuracy: 0.9350 - val_loss: 0.0016\n",
      "Epoch 22/100\n",
      "\u001b[1m100/100\u001b[0m \u001b[32m━━━━━━━━━━━━━━━━━━━━\u001b[0m\u001b[37m\u001b[0m \u001b[1m0s\u001b[0m 1ms/step - accuracy: 0.9252 - loss: 0.0036 - val_accuracy: 0.8550 - val_loss: 0.0089\n",
      "Epoch 23/100\n",
      "\u001b[1m100/100\u001b[0m \u001b[32m━━━━━━━━━━━━━━━━━━━━\u001b[0m\u001b[37m\u001b[0m \u001b[1m0s\u001b[0m 1ms/step - accuracy: 0.8857 - loss: 0.0082 - val_accuracy: 0.9300 - val_loss: 0.0011\n",
      "Epoch 24/100\n",
      "\u001b[1m100/100\u001b[0m \u001b[32m━━━━━━━━━━━━━━━━━━━━\u001b[0m\u001b[37m\u001b[0m \u001b[1m0s\u001b[0m 1ms/step - accuracy: 0.9302 - loss: 0.0020 - val_accuracy: 0.9675 - val_loss: 0.0010\n",
      "Epoch 25/100\n",
      "\u001b[1m100/100\u001b[0m \u001b[32m━━━━━━━━━━━━━━━━━━━━\u001b[0m\u001b[37m\u001b[0m \u001b[1m0s\u001b[0m 1ms/step - accuracy: 0.9312 - loss: 0.0015 - val_accuracy: 0.9337 - val_loss: 0.0015\n",
      "Epoch 26/100\n",
      "\u001b[1m100/100\u001b[0m \u001b[32m━━━━━━━━━━━━━━━━━━━━\u001b[0m\u001b[37m\u001b[0m \u001b[1m0s\u001b[0m 1ms/step - accuracy: 0.9427 - loss: 0.0018 - val_accuracy: 0.9600 - val_loss: 0.0023\n",
      "Epoch 27/100\n",
      "\u001b[1m100/100\u001b[0m \u001b[32m━━━━━━━━━━━━━━━━━━━━\u001b[0m\u001b[37m\u001b[0m \u001b[1m0s\u001b[0m 1ms/step - accuracy: 0.9314 - loss: 0.0023 - val_accuracy: 0.9762 - val_loss: 0.0011\n",
      "Epoch 28/100\n",
      "\u001b[1m100/100\u001b[0m \u001b[32m━━━━━━━━━━━━━━━━━━━━\u001b[0m\u001b[37m\u001b[0m \u001b[1m0s\u001b[0m 1ms/step - accuracy: 0.9317 - loss: 0.0021 - val_accuracy: 0.9287 - val_loss: 8.8239e-04\n",
      "Epoch 29/100\n",
      "\u001b[1m100/100\u001b[0m \u001b[32m━━━━━━━━━━━━━━━━━━━━\u001b[0m\u001b[37m\u001b[0m \u001b[1m0s\u001b[0m 1ms/step - accuracy: 0.9314 - loss: 0.0017 - val_accuracy: 0.9350 - val_loss: 0.0010\n",
      "Epoch 30/100\n",
      "\u001b[1m100/100\u001b[0m \u001b[32m━━━━━━━━━━━━━━━━━━━━\u001b[0m\u001b[37m\u001b[0m \u001b[1m0s\u001b[0m 1ms/step - accuracy: 0.9496 - loss: 0.0013 - val_accuracy: 0.9100 - val_loss: 0.0019\n",
      "Epoch 31/100\n",
      "\u001b[1m100/100\u001b[0m \u001b[32m━━━━━━━━━━━━━━━━━━━━\u001b[0m\u001b[37m\u001b[0m \u001b[1m0s\u001b[0m 1ms/step - accuracy: 0.9124 - loss: 0.0028 - val_accuracy: 0.8163 - val_loss: 0.0094\n",
      "Epoch 32/100\n",
      "\u001b[1m100/100\u001b[0m \u001b[32m━━━━━━━━━━━━━━━━━━━━\u001b[0m\u001b[37m\u001b[0m \u001b[1m0s\u001b[0m 1ms/step - accuracy: 0.9070 - loss: 0.0044 - val_accuracy: 0.9650 - val_loss: 0.0011\n",
      "Epoch 33/100\n",
      "\u001b[1m100/100\u001b[0m \u001b[32m━━━━━━━━━━━━━━━━━━━━\u001b[0m\u001b[37m\u001b[0m \u001b[1m0s\u001b[0m 1ms/step - accuracy: 0.9363 - loss: 0.0020 - val_accuracy: 0.9100 - val_loss: 0.0013\n",
      "Epoch 34/100\n",
      "\u001b[1m100/100\u001b[0m \u001b[32m━━━━━━━━━━━━━━━━━━━━\u001b[0m\u001b[37m\u001b[0m \u001b[1m0s\u001b[0m 1ms/step - accuracy: 0.9050 - loss: 0.0057 - val_accuracy: 0.9600 - val_loss: 9.0726e-04\n",
      "Epoch 35/100\n",
      "\u001b[1m100/100\u001b[0m \u001b[32m━━━━━━━━━━━━━━━━━━━━\u001b[0m\u001b[37m\u001b[0m \u001b[1m0s\u001b[0m 1ms/step - accuracy: 0.9283 - loss: 0.0023 - val_accuracy: 0.9362 - val_loss: 0.0010\n",
      "Epoch 36/100\n",
      "\u001b[1m100/100\u001b[0m \u001b[32m━━━━━━━━━━━━━━━━━━━━\u001b[0m\u001b[37m\u001b[0m \u001b[1m0s\u001b[0m 1ms/step - accuracy: 0.9390 - loss: 0.0016 - val_accuracy: 0.9300 - val_loss: 0.0049\n",
      "Epoch 37/100\n",
      "\u001b[1m100/100\u001b[0m \u001b[32m━━━━━━━━━━━━━━━━━━━━\u001b[0m\u001b[37m\u001b[0m \u001b[1m0s\u001b[0m 1ms/step - accuracy: 0.8965 - loss: 0.0067 - val_accuracy: 0.9000 - val_loss: 0.0028\n",
      "Epoch 38/100\n",
      "\u001b[1m100/100\u001b[0m \u001b[32m━━━━━━━━━━━━━━━━━━━━\u001b[0m\u001b[37m\u001b[0m \u001b[1m0s\u001b[0m 1ms/step - accuracy: 0.9240 - loss: 0.0024 - val_accuracy: 0.9362 - val_loss: 0.0010\n",
      "Epoch 39/100\n",
      "\u001b[1m100/100\u001b[0m \u001b[32m━━━━━━━━━━━━━━━━━━━━\u001b[0m\u001b[37m\u001b[0m \u001b[1m0s\u001b[0m 1ms/step - accuracy: 0.9420 - loss: 0.0015 - val_accuracy: 0.8637 - val_loss: 0.0028\n",
      "Epoch 40/100\n",
      "\u001b[1m100/100\u001b[0m \u001b[32m━━━━━━━━━━━━━━━━━━━━\u001b[0m\u001b[37m\u001b[0m \u001b[1m0s\u001b[0m 1ms/step - accuracy: 0.9401 - loss: 0.0013 - val_accuracy: 0.9525 - val_loss: 0.0020\n",
      "Epoch 41/100\n",
      "\u001b[1m100/100\u001b[0m \u001b[32m━━━━━━━━━━━━━━━━━━━━\u001b[0m\u001b[37m\u001b[0m \u001b[1m0s\u001b[0m 1ms/step - accuracy: 0.9294 - loss: 0.0022 - val_accuracy: 0.9325 - val_loss: 0.0023\n",
      "Epoch 42/100\n",
      "\u001b[1m100/100\u001b[0m \u001b[32m━━━━━━━━━━━━━━━━━━━━\u001b[0m\u001b[37m\u001b[0m \u001b[1m0s\u001b[0m 1ms/step - accuracy: 0.9240 - loss: 0.0021 - val_accuracy: 0.9087 - val_loss: 0.0010\n",
      "Epoch 43/100\n",
      "\u001b[1m100/100\u001b[0m \u001b[32m━━━━━━━━━━━━━━━━━━━━\u001b[0m\u001b[37m\u001b[0m \u001b[1m0s\u001b[0m 1ms/step - accuracy: 0.9487 - loss: 7.9082e-04 - val_accuracy: 0.9400 - val_loss: 0.0012\n",
      "Epoch 44/100\n",
      "\u001b[1m100/100\u001b[0m \u001b[32m━━━━━━━━━━━━━━━━━━━━\u001b[0m\u001b[37m\u001b[0m \u001b[1m0s\u001b[0m 1ms/step - accuracy: 0.9427 - loss: 0.0022 - val_accuracy: 0.9325 - val_loss: 0.0011\n",
      "Epoch 45/100\n",
      "\u001b[1m100/100\u001b[0m \u001b[32m━━━━━━━━━━━━━━━━━━━━\u001b[0m\u001b[37m\u001b[0m \u001b[1m0s\u001b[0m 1ms/step - accuracy: 0.9320 - loss: 0.0021 - val_accuracy: 0.9575 - val_loss: 0.0020\n",
      "Epoch 46/100\n",
      "\u001b[1m100/100\u001b[0m \u001b[32m━━━━━━━━━━━━━━━━━━━━\u001b[0m\u001b[37m\u001b[0m \u001b[1m0s\u001b[0m 1ms/step - accuracy: 0.9072 - loss: 0.0033 - val_accuracy: 0.9425 - val_loss: 7.8567e-04\n",
      "Epoch 47/100\n",
      "\u001b[1m100/100\u001b[0m \u001b[32m━━━━━━━━━━━━━━━━━━━━\u001b[0m\u001b[37m\u001b[0m \u001b[1m0s\u001b[0m 1ms/step - accuracy: 0.9428 - loss: 9.8419e-04 - val_accuracy: 0.8800 - val_loss: 0.0014\n",
      "Epoch 48/100\n",
      "\u001b[1m100/100\u001b[0m \u001b[32m━━━━━━━━━━━━━━━━━━━━\u001b[0m\u001b[37m\u001b[0m \u001b[1m0s\u001b[0m 1ms/step - accuracy: 0.9233 - loss: 0.0019 - val_accuracy: 0.9137 - val_loss: 0.0015\n",
      "Epoch 49/100\n",
      "\u001b[1m100/100\u001b[0m \u001b[32m━━━━━━━━━━━━━━━━━━━━\u001b[0m\u001b[37m\u001b[0m \u001b[1m0s\u001b[0m 1ms/step - accuracy: 0.9127 - loss: 0.0031 - val_accuracy: 0.9162 - val_loss: 0.0022\n",
      "Epoch 50/100\n",
      "\u001b[1m100/100\u001b[0m \u001b[32m━━━━━━━━━━━━━━━━━━━━\u001b[0m\u001b[37m\u001b[0m \u001b[1m0s\u001b[0m 1ms/step - accuracy: 0.9410 - loss: 0.0011 - val_accuracy: 0.9425 - val_loss: 6.0218e-04\n",
      "Epoch 51/100\n",
      "\u001b[1m100/100\u001b[0m \u001b[32m━━━━━━━━━━━━━━━━━━━━\u001b[0m\u001b[37m\u001b[0m \u001b[1m0s\u001b[0m 1ms/step - accuracy: 0.9472 - loss: 0.0016 - val_accuracy: 0.8462 - val_loss: 0.0052\n",
      "Epoch 52/100\n",
      "\u001b[1m100/100\u001b[0m \u001b[32m━━━━━━━━━━━━━━━━━━━━\u001b[0m\u001b[37m\u001b[0m \u001b[1m0s\u001b[0m 1ms/step - accuracy: 0.8776 - loss: 0.0079 - val_accuracy: 0.9550 - val_loss: 8.4864e-04\n",
      "Epoch 53/100\n",
      "\u001b[1m100/100\u001b[0m \u001b[32m━━━━━━━━━━━━━━━━━━━━\u001b[0m\u001b[37m\u001b[0m \u001b[1m0s\u001b[0m 1ms/step - accuracy: 0.9500 - loss: 8.3012e-04 - val_accuracy: 0.9600 - val_loss: 6.4185e-04\n",
      "Epoch 54/100\n",
      "\u001b[1m100/100\u001b[0m \u001b[32m━━━━━━━━━━━━━━━━━━━━\u001b[0m\u001b[37m\u001b[0m \u001b[1m0s\u001b[0m 1ms/step - accuracy: 0.9468 - loss: 0.0011 - val_accuracy: 0.9575 - val_loss: 0.0012\n",
      "Epoch 55/100\n",
      "\u001b[1m100/100\u001b[0m \u001b[32m━━━━━━━━━━━━━━━━━━━━\u001b[0m\u001b[37m\u001b[0m \u001b[1m0s\u001b[0m 1ms/step - accuracy: 0.9316 - loss: 0.0020 - val_accuracy: 0.9438 - val_loss: 0.0018\n",
      "Epoch 56/100\n",
      "\u001b[1m100/100\u001b[0m \u001b[32m━━━━━━━━━━━━━━━━━━━━\u001b[0m\u001b[37m\u001b[0m \u001b[1m0s\u001b[0m 1ms/step - accuracy: 0.9349 - loss: 0.0011 - val_accuracy: 0.9150 - val_loss: 0.0020\n",
      "Epoch 57/100\n",
      "\u001b[1m100/100\u001b[0m \u001b[32m━━━━━━━━━━━━━━━━━━━━\u001b[0m\u001b[37m\u001b[0m \u001b[1m0s\u001b[0m 1ms/step - accuracy: 0.9387 - loss: 0.0014 - val_accuracy: 0.9700 - val_loss: 5.4808e-04\n",
      "Epoch 58/100\n",
      "\u001b[1m100/100\u001b[0m \u001b[32m━━━━━━━━━━━━━━━━━━━━\u001b[0m\u001b[37m\u001b[0m \u001b[1m0s\u001b[0m 1ms/step - accuracy: 0.9400 - loss: 0.0014 - val_accuracy: 0.9712 - val_loss: 6.2636e-04\n",
      "Epoch 59/100\n",
      "\u001b[1m100/100\u001b[0m \u001b[32m━━━━━━━━━━━━━━━━━━━━\u001b[0m\u001b[37m\u001b[0m \u001b[1m0s\u001b[0m 1ms/step - accuracy: 0.9479 - loss: 0.0012 - val_accuracy: 0.9200 - val_loss: 9.0790e-04\n",
      "Epoch 60/100\n",
      "\u001b[1m100/100\u001b[0m \u001b[32m━━━━━━━━━━━━━━━━━━━━\u001b[0m\u001b[37m\u001b[0m \u001b[1m0s\u001b[0m 1ms/step - accuracy: 0.9294 - loss: 0.0023 - val_accuracy: 0.9650 - val_loss: 6.2479e-04\n",
      "Epoch 61/100\n",
      "\u001b[1m100/100\u001b[0m \u001b[32m━━━━━━━━━━━━━━━━━━━━\u001b[0m\u001b[37m\u001b[0m \u001b[1m0s\u001b[0m 1ms/step - accuracy: 0.9504 - loss: 9.1089e-04 - val_accuracy: 0.8863 - val_loss: 0.0025\n",
      "Epoch 62/100\n",
      "\u001b[1m100/100\u001b[0m \u001b[32m━━━━━━━━━━━━━━━━━━━━\u001b[0m\u001b[37m\u001b[0m \u001b[1m0s\u001b[0m 1ms/step - accuracy: 0.9375 - loss: 0.0015 - val_accuracy: 0.8975 - val_loss: 0.0027\n",
      "Epoch 63/100\n",
      "\u001b[1m100/100\u001b[0m \u001b[32m━━━━━━━━━━━━━━━━━━━━\u001b[0m\u001b[37m\u001b[0m \u001b[1m0s\u001b[0m 1ms/step - accuracy: 0.9401 - loss: 0.0017 - val_accuracy: 0.9812 - val_loss: 0.0017\n",
      "Epoch 64/100\n",
      "\u001b[1m100/100\u001b[0m \u001b[32m━━━━━━━━━━━━━━━━━━━━\u001b[0m\u001b[37m\u001b[0m \u001b[1m0s\u001b[0m 1ms/step - accuracy: 0.9299 - loss: 0.0032 - val_accuracy: 0.9225 - val_loss: 0.0014\n",
      "Epoch 65/100\n",
      "\u001b[1m100/100\u001b[0m \u001b[32m━━━━━━━━━━━━━━━━━━━━\u001b[0m\u001b[37m\u001b[0m \u001b[1m0s\u001b[0m 1ms/step - accuracy: 0.9446 - loss: 0.0012 - val_accuracy: 0.9287 - val_loss: 6.0394e-04\n",
      "Epoch 66/100\n",
      "\u001b[1m100/100\u001b[0m \u001b[32m━━━━━━━━━━━━━━━━━━━━\u001b[0m\u001b[37m\u001b[0m \u001b[1m0s\u001b[0m 1ms/step - accuracy: 0.9514 - loss: 8.1322e-04 - val_accuracy: 0.9538 - val_loss: 9.3324e-04\n",
      "Epoch 67/100\n",
      "\u001b[1m100/100\u001b[0m \u001b[32m━━━━━━━━━━━━━━━━━━━━\u001b[0m\u001b[37m\u001b[0m \u001b[1m0s\u001b[0m 1ms/step - accuracy: 0.9417 - loss: 0.0011 - val_accuracy: 0.8863 - val_loss: 0.0026\n",
      "Epoch 68/100\n",
      "\u001b[1m100/100\u001b[0m \u001b[32m━━━━━━━━━━━━━━━━━━━━\u001b[0m\u001b[37m\u001b[0m \u001b[1m0s\u001b[0m 1ms/step - accuracy: 0.9400 - loss: 0.0025 - val_accuracy: 0.8687 - val_loss: 0.0074\n",
      "Epoch 69/100\n",
      "\u001b[1m100/100\u001b[0m \u001b[32m━━━━━━━━━━━━━━━━━━━━\u001b[0m\u001b[37m\u001b[0m \u001b[1m0s\u001b[0m 1ms/step - accuracy: 0.9337 - loss: 0.0030 - val_accuracy: 0.9563 - val_loss: 5.1760e-04\n",
      "Epoch 70/100\n",
      "\u001b[1m100/100\u001b[0m \u001b[32m━━━━━━━━━━━━━━━━━━━━\u001b[0m\u001b[37m\u001b[0m \u001b[1m0s\u001b[0m 1ms/step - accuracy: 0.9500 - loss: 8.0793e-04 - val_accuracy: 0.9762 - val_loss: 0.0020\n",
      "Epoch 71/100\n",
      "\u001b[1m100/100\u001b[0m \u001b[32m━━━━━━━━━━━━━━━━━━━━\u001b[0m\u001b[37m\u001b[0m \u001b[1m0s\u001b[0m 1ms/step - accuracy: 0.9467 - loss: 0.0015 - val_accuracy: 0.8650 - val_loss: 0.0057\n",
      "Epoch 72/100\n",
      "\u001b[1m100/100\u001b[0m \u001b[32m━━━━━━━━━━━━━━━━━━━━\u001b[0m\u001b[37m\u001b[0m \u001b[1m0s\u001b[0m 1ms/step - accuracy: 0.9222 - loss: 0.0028 - val_accuracy: 0.8825 - val_loss: 0.0050\n",
      "Epoch 73/100\n",
      "\u001b[1m100/100\u001b[0m \u001b[32m━━━━━━━━━━━━━━━━━━━━\u001b[0m\u001b[37m\u001b[0m \u001b[1m0s\u001b[0m 1ms/step - accuracy: 0.9013 - loss: 0.0042 - val_accuracy: 0.9362 - val_loss: 8.7312e-04\n",
      "Epoch 74/100\n",
      "\u001b[1m100/100\u001b[0m \u001b[32m━━━━━━━━━━━━━━━━━━━━\u001b[0m\u001b[37m\u001b[0m \u001b[1m0s\u001b[0m 1ms/step - accuracy: 0.9395 - loss: 7.4009e-04 - val_accuracy: 0.9287 - val_loss: 5.8699e-04\n",
      "Epoch 75/100\n",
      "\u001b[1m100/100\u001b[0m \u001b[32m━━━━━━━━━━━━━━━━━━━━\u001b[0m\u001b[37m\u001b[0m \u001b[1m0s\u001b[0m 1ms/step - accuracy: 0.9514 - loss: 6.4635e-04 - val_accuracy: 0.9688 - val_loss: 7.5514e-04\n",
      "Epoch 76/100\n",
      "\u001b[1m100/100\u001b[0m \u001b[32m━━━━━━━━━━━━━━━━━━━━\u001b[0m\u001b[37m\u001b[0m \u001b[1m0s\u001b[0m 1ms/step - accuracy: 0.9494 - loss: 6.9902e-04 - val_accuracy: 0.9650 - val_loss: 8.7626e-04\n",
      "Epoch 77/100\n",
      "\u001b[1m100/100\u001b[0m \u001b[32m━━━━━━━━━━━━━━━━━━━━\u001b[0m\u001b[37m\u001b[0m \u001b[1m0s\u001b[0m 1ms/step - accuracy: 0.9406 - loss: 0.0013 - val_accuracy: 0.8788 - val_loss: 0.0023\n",
      "Epoch 78/100\n",
      "\u001b[1m100/100\u001b[0m \u001b[32m━━━━━━━━━━━━━━━━━━━━\u001b[0m\u001b[37m\u001b[0m \u001b[1m0s\u001b[0m 1ms/step - accuracy: 0.9327 - loss: 0.0013 - val_accuracy: 0.8712 - val_loss: 0.0044\n",
      "Epoch 79/100\n",
      "\u001b[1m100/100\u001b[0m \u001b[32m━━━━━━━━━━━━━━━━━━━━\u001b[0m\u001b[37m\u001b[0m \u001b[1m0s\u001b[0m 1ms/step - accuracy: 0.8896 - loss: 0.0068 - val_accuracy: 0.8963 - val_loss: 0.0026\n",
      "Epoch 80/100\n",
      "\u001b[1m100/100\u001b[0m \u001b[32m━━━━━━━━━━━━━━━━━━━━\u001b[0m\u001b[37m\u001b[0m \u001b[1m0s\u001b[0m 1ms/step - accuracy: 0.9429 - loss: 0.0014 - val_accuracy: 0.9500 - val_loss: 6.4018e-04\n",
      "Epoch 81/100\n",
      "\u001b[1m100/100\u001b[0m \u001b[32m━━━━━━━━━━━━━━━━━━━━\u001b[0m\u001b[37m\u001b[0m \u001b[1m0s\u001b[0m 1ms/step - accuracy: 0.9572 - loss: 7.9633e-04 - val_accuracy: 0.9000 - val_loss: 0.0016\n",
      "Epoch 82/100\n",
      "\u001b[1m100/100\u001b[0m \u001b[32m━━━━━━━━━━━━━━━━━━━━\u001b[0m\u001b[37m\u001b[0m \u001b[1m0s\u001b[0m 1ms/step - accuracy: 0.9328 - loss: 0.0018 - val_accuracy: 0.9375 - val_loss: 5.4460e-04\n",
      "Epoch 83/100\n",
      "\u001b[1m100/100\u001b[0m \u001b[32m━━━━━━━━━━━━━━━━━━━━\u001b[0m\u001b[37m\u001b[0m \u001b[1m0s\u001b[0m 1ms/step - accuracy: 0.9599 - loss: 4.3289e-04 - val_accuracy: 0.9362 - val_loss: 3.0755e-04\n",
      "Epoch 84/100\n",
      "\u001b[1m100/100\u001b[0m \u001b[32m━━━━━━━━━━━━━━━━━━━━\u001b[0m\u001b[37m\u001b[0m \u001b[1m0s\u001b[0m 1ms/step - accuracy: 0.9397 - loss: 0.0011 - val_accuracy: 0.8400 - val_loss: 0.0088\n",
      "Epoch 85/100\n",
      "\u001b[1m100/100\u001b[0m \u001b[32m━━━━━━━━━━━━━━━━━━━━\u001b[0m\u001b[37m\u001b[0m \u001b[1m0s\u001b[0m 1ms/step - accuracy: 0.9283 - loss: 0.0018 - val_accuracy: 0.9638 - val_loss: 4.9436e-04\n",
      "Epoch 86/100\n",
      "\u001b[1m100/100\u001b[0m \u001b[32m━━━━━━━━━━━━━━━━━━━━\u001b[0m\u001b[37m\u001b[0m \u001b[1m0s\u001b[0m 1ms/step - accuracy: 0.9467 - loss: 0.0012 - val_accuracy: 0.9712 - val_loss: 0.0010\n",
      "Epoch 87/100\n",
      "\u001b[1m100/100\u001b[0m \u001b[32m━━━━━━━━━━━━━━━━━━━━\u001b[0m\u001b[37m\u001b[0m \u001b[1m0s\u001b[0m 1ms/step - accuracy: 0.9521 - loss: 0.0011 - val_accuracy: 0.8925 - val_loss: 0.0037\n",
      "Epoch 88/100\n",
      "\u001b[1m100/100\u001b[0m \u001b[32m━━━━━━━━━━━━━━━━━━━━\u001b[0m\u001b[37m\u001b[0m \u001b[1m0s\u001b[0m 1ms/step - accuracy: 0.9318 - loss: 0.0033 - val_accuracy: 0.9200 - val_loss: 0.0017\n",
      "Epoch 89/100\n",
      "\u001b[1m100/100\u001b[0m \u001b[32m━━━━━━━━━━━━━━━━━━━━\u001b[0m\u001b[37m\u001b[0m \u001b[1m0s\u001b[0m 1ms/step - accuracy: 0.9406 - loss: 0.0010 - val_accuracy: 0.9675 - val_loss: 7.3043e-04\n",
      "Epoch 90/100\n",
      "\u001b[1m100/100\u001b[0m \u001b[32m━━━━━━━━━━━━━━━━━━━━\u001b[0m\u001b[37m\u001b[0m \u001b[1m0s\u001b[0m 1ms/step - accuracy: 0.9471 - loss: 4.9660e-04 - val_accuracy: 0.9712 - val_loss: 5.4507e-04\n",
      "Epoch 91/100\n",
      "\u001b[1m100/100\u001b[0m \u001b[32m━━━━━━━━━━━━━━━━━━━━\u001b[0m\u001b[37m\u001b[0m \u001b[1m0s\u001b[0m 1ms/step - accuracy: 0.9487 - loss: 9.2666e-04 - val_accuracy: 0.9800 - val_loss: 9.1076e-04\n",
      "Epoch 92/100\n",
      "\u001b[1m100/100\u001b[0m \u001b[32m━━━━━━━━━━━━━━━━━━━━\u001b[0m\u001b[37m\u001b[0m \u001b[1m0s\u001b[0m 1ms/step - accuracy: 0.9480 - loss: 0.0012 - val_accuracy: 0.9362 - val_loss: 0.0014\n",
      "Epoch 93/100\n",
      "\u001b[1m100/100\u001b[0m \u001b[32m━━━━━━━━━━━━━━━━━━━━\u001b[0m\u001b[37m\u001b[0m \u001b[1m0s\u001b[0m 1ms/step - accuracy: 0.9561 - loss: 7.2122e-04 - val_accuracy: 0.9762 - val_loss: 6.4201e-04\n",
      "Epoch 94/100\n",
      "\u001b[1m100/100\u001b[0m \u001b[32m━━━━━━━━━━━━━━━━━━━━\u001b[0m\u001b[37m\u001b[0m \u001b[1m0s\u001b[0m 1ms/step - accuracy: 0.9487 - loss: 7.2528e-04 - val_accuracy: 0.9212 - val_loss: 0.0012\n",
      "Epoch 95/100\n",
      "\u001b[1m100/100\u001b[0m \u001b[32m━━━━━━━━━━━━━━━━━━━━\u001b[0m\u001b[37m\u001b[0m \u001b[1m0s\u001b[0m 1ms/step - accuracy: 0.9485 - loss: 8.5714e-04 - val_accuracy: 0.8363 - val_loss: 0.0082\n",
      "Epoch 96/100\n",
      "\u001b[1m100/100\u001b[0m \u001b[32m━━━━━━━━━━━━━━━━━━━━\u001b[0m\u001b[37m\u001b[0m \u001b[1m0s\u001b[0m 1ms/step - accuracy: 0.8939 - loss: 0.0060 - val_accuracy: 0.8913 - val_loss: 0.0026\n",
      "Epoch 97/100\n",
      "\u001b[1m100/100\u001b[0m \u001b[32m━━━━━━━━━━━━━━━━━━━━\u001b[0m\u001b[37m\u001b[0m \u001b[1m0s\u001b[0m 1ms/step - accuracy: 0.9457 - loss: 0.0013 - val_accuracy: 0.8750 - val_loss: 0.0037\n",
      "Epoch 98/100\n",
      "\u001b[1m100/100\u001b[0m \u001b[32m━━━━━━━━━━━━━━━━━━━━\u001b[0m\u001b[37m\u001b[0m \u001b[1m0s\u001b[0m 1ms/step - accuracy: 0.9258 - loss: 0.0021 - val_accuracy: 0.9675 - val_loss: 9.1801e-04\n",
      "Epoch 99/100\n",
      "\u001b[1m100/100\u001b[0m \u001b[32m━━━━━━━━━━━━━━━━━━━━\u001b[0m\u001b[37m\u001b[0m \u001b[1m0s\u001b[0m 1ms/step - accuracy: 0.9551 - loss: 6.6462e-04 - val_accuracy: 0.9337 - val_loss: 4.9728e-04\n",
      "Epoch 100/100\n",
      "\u001b[1m100/100\u001b[0m \u001b[32m━━━━━━━━━━━━━━━━━━━━\u001b[0m\u001b[37m\u001b[0m \u001b[1m0s\u001b[0m 1ms/step - accuracy: 0.9417 - loss: 4.5831e-04 - val_accuracy: 0.8788 - val_loss: 0.0027\n"
     ]
    }
   ],
   "source": [
    "epochs = 100\n",
    "# Compile the model\n",
    "model.compile(optimizer='adam',\n",
    "              loss='mean_squared_error',\n",
    "              metrics=['accuracy'])\n",
    "# Train the model\n",
    "history = model.fit(X_train_scaled,  y_train,\n",
    "                    epochs=epochs, batch_size=32, validation_split=0.2)"
   ]
  },
  {
   "cell_type": "code",
   "execution_count": null,
   "id": "6a9a8065",
   "metadata": {},
   "outputs": [
    {
     "data": {
      "image/png": "[encoded data removed]",
      "text/plain": [
       "<Figure size 1400x500 with 2 Axes>"
      ]
     },
     "metadata": {},
     "output_type": "display_data"
    }
   ],
   "source": [
    "epochs = range(1, len(history.history['loss']) + 1)\n",
    "\n",
    "plt.figure(figsize=(14,5))\n",
    "\n",
    "# Plot Loss\n",
    "plt.subplot(1, 2, 1)\n",
    "plt.plot(epochs, history.history['loss'], label='Train Loss')\n",
    "plt.plot(epochs, history.history['val_loss'], label='Validation Loss')\n",
    "plt.title('Model Loss Over Epochs')\n",
    "plt.xlabel('Epoch')\n",
    "plt.ylabel('Loss (MSE)')\n",
    "plt.legend()\n",
    "plt.grid(True)\n",
    "\n",
    "# Plot Accuracy\n",
    "plt.subplot(1, 2, 2)\n",
    "plt.plot(epochs, history.history['accuracy'], label='Train Accuracy')\n",
    "plt.plot(epochs, history.history['val_accuracy'], label='Validation Accuracy')\n",
    "plt.title('Model Accuracy Over Epochs')\n",
    "plt.xlabel('Epoch')\n",
    "plt.ylabel('Accuracy')\n",
    "plt.legend()\n",
    "plt.grid(True)\n",
    "\n",
    "plt.show()"
   ]
  },
  {
   "cell_type": "code",
   "execution_count": null,
   "id": "bd5f6924",
   "metadata": {},
   "outputs": [
    {
     "name": "stdout",
     "output_type": "stream",
     "text": [
      "\u001b[1m32/32\u001b[0m \u001b[32m━━━━━━━━━━━━━━━━━━━━\u001b[0m\u001b[37m\u001b[0m \u001b[1m0s\u001b[0m 645us/step\n",
      "   True_1    Pred_1  True_2    Pred_2  True_3    Pred_3\n",
      "0    0.40  0.395124    0.30  0.240583    0.65  0.646737\n",
      "1    0.85  0.841186    0.70  0.505786    0.45  0.444479\n",
      "2    0.15  0.149475    0.35  0.324683    0.25  0.252317\n",
      "3    0.15  0.147925    0.60  0.585903    0.65  0.649507\n",
      "4    0.55  0.550667    0.15  0.076334    0.70  0.698809\n",
      "5    0.65  0.650693    0.10  0.041606    0.85  0.854462\n",
      "6    0.80  0.793066    0.70  0.542351    0.45  0.441108\n",
      "7    0.70  0.695673    0.35  0.203803    0.30  0.311370\n",
      "8    0.50  0.500006    0.00  0.013997    0.10  0.095875\n",
      "9    0.00  0.008793    0.30  0.239493    0.65  0.650060\n"
     ]
    }
   ],
   "source": [
    "predictions = model.predict(X_test_scaled)\n",
    "\n",
    "# Assuming y_test is your true target values (shape: [num_samples, 3])\n",
    "# Make sure y_test is a NumPy array\n",
    "y_test_array = np.array(y_test)\n",
    "\n",
    "# Create a DataFrame to compare\n",
    "comparison_df = pd.DataFrame({\n",
    "    'True_1': y_test_array[:, 0],\n",
    "    'Pred_1': predictions[:, 0],\n",
    "    'True_2': y_test_array[:, 1],\n",
    "    'Pred_2': predictions[:, 1],\n",
    "    'True_3': y_test_array[:, 2],\n",
    "    'Pred_3': predictions[:, 2],\n",
    "})\n",
    "\n",
    "print(comparison_df.head(10))"
   ]
  },
  {
   "cell_type": "markdown",
   "id": "2bc3c397",
   "metadata": {},
   "source": []
  }
 ],
 "metadata": {
  "kernelspec": {
   "display_name": "BridgeFC",
   "language": "python",
   "name": "python3"
  },
  "language_info": {
   "codemirror_mode": {
    "name": "ipython",
    "version": 3
   },
   "file_extension": ".py",
   "mimetype": "text/x-python",
   "name": "python",
   "nbconvert_exporter": "python",
   "pygments_lexer": "ipython3",
   "version": "3.12.7"
  }
 },
 "nbformat": 4,
 "nbformat_minor": 5
}
